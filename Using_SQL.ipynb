{
 "cells": [
  {
   "cell_type": "markdown",
   "metadata": {},
   "source": [
    "### Using SQL\n",
    "\n",
    "This notebook shows several examples how to select data from the database using just SQL.\n",
    "\n",
    "Using some PostgreSQL UI like [DBeaver](https://dbeaver.io/), we can inspect all available data. \n",
    "It is an ideal form for exploring the data in details.\n",
    "Mainly, we can query whatever data we want. Then, we can order it by any column(s) up and down when trying to find extremes. We can modify SQL formula or selection easily. We can perform various calculations, filter results in UI and so on."
   ]
  },
  {
   "cell_type": "markdown",
   "metadata": {},
   "source": [
    "## Examples"
   ]
  },
  {
   "cell_type": "markdown",
   "metadata": {},
   "source": [
    "**Which strategies do trade Facebook?**\n",
    "\n",
    "~~~sql\n",
    "select systemid, systemname, Date(to_timestamp(added)) as Added , startingcash \n",
    "from c2systems\n",
    "where systemid in (select distinct(systemid) from c2ex_trades where symbol = 'FB');\n",
    "~~~\n",
    "\n",
    "![Image](docs/WhoTradesFacebook.png)",
    "\n",
    "****\n"
   ]
  },
  {
   "cell_type": "markdown",
   "metadata": {},
   "source": [
    "**Show \"extreme-os\" details.**\n",
    "~~~sql\n",
    "select systemname, to_timestamp(added), startingcash, openpositionspl, closedpl, cash \n",
    "from c2systems \n",
    "where systemid = 13202557;\n",
    "~~~\n",
    "\n",
    "![Image](./docs/Extremeos_details.png)\n",
    "\n",
    "****\n"
   ]
  },
  {
   "cell_type": "markdown",
   "metadata": {},
   "source": [
    "**Show \"extreme-os\" results.**\n",
    "~~~sql\n",
    "select * \n",
    "from c2ex_results \n",
    "where systemid = 13202557;\n",
    "~~~\n",
    "\n",
    "![Image](./docs/Extremeos_results.png)\n",
    "\n",
    "****\n"
   ]
  },
  {
   "cell_type": "markdown",
   "metadata": {},
   "source": [
    "**Show trading signals of Facebook in the \"extreme-os\" strategy.**\n",
    "\n",
    "~~~sql\n",
    "select tradedwhen, action, quant, tradeprice \n",
    "from c2ex_signals \n",
    "where systemid = 13202557 and symbol = 'FB' order by tradedwhen;\n",
    "~~~\n",
    "\n",
    "![Image](./docs/FacebookSignals.png)\n",
    "\n",
    "****\n"
   ]
  },
  {
   "cell_type": "markdown",
   "metadata": {},
   "source": [
    "**Closed trades results.**\n",
    "\n",
    "Facebook trades made by the **extreme-os** strategy.\n",
    "\n",
    "~~~sql\n",
    "select entrytime , exittime, closedquant, \"result\"  \n",
    "from c2ex_trades cet \n",
    "where systemid = 13202557 and symbol = 'FB';\n",
    "~~~\n",
    "\n",
    "![Image](./docs/Extremeos_trades.png)\n",
    "\n",
    "****\n"
   ]
  },
  {
   "cell_type": "markdown",
   "metadata": {},
   "source": [
    "**Show history of \"Annual Return\" in the \"extreme-os\" strategy.**\n",
    "~~~sql\n",
    "select date, statval \n",
    "from historical_stats_modern \n",
    "where systemid = 13202557 and statname = 'cARdefault' order by 1;\n",
    "~~~\n",
    "\n",
    "![Image](./docs/Extremeos_AnnReturn.png)\n",
    "\n",
    "****\n"
   ]
  },
  {
   "cell_type": "markdown",
   "metadata": {},
   "source": [
    "**Show a history of several statistics of the \"extreme-os\" strategy.**\n",
    "\n",
    "~~~sql\n",
    "select \n",
    "base.yyyymmdd,  \n",
    "cARdefault.statval as AnnReturn, \n",
    "profitFactor.statval as ProfitFactor,\n",
    "maxdrawdownPcnt.statval as MaxDDPcnt,\n",
    "numtrades.statval as NumTrades,\n",
    "avgDollarPosWinners.statval as AvgWin,\n",
    "avgDollarPosLosers.statval as AvgLos,\n",
    "avgDollarPosWinners.statval / avgDollarPosLosers.statval as WinRatio\n",
    "-- Let's get systemAgeDays as a base data source for Date and SystemId\n",
    "from (select date, systemid from historical_stats_modern where statname = 'systemAgeDays') base\n",
    "join historical_stats_modern cARdefault on cARdefault.date = base.date and cARdefault.systemid = base.systemid  and cARdefault.statname = 'cARdefault'\n",
    "join historical_stats_modern maxdrawdownPcnt on maxdrawdownPcnt.date = base.date and maxdrawdownPcnt.systemid = base.systemid  and maxdrawdownPcnt.statname = 'maxdrawdownPcnt'\n",
    "join historical_stats_modern profitFactor on profitFactor.date = base.date and profitFactor.systemid = base.systemid and profitFactor.statname = 'profitFactor'\n",
    "join historical_stats_modern numtrades on numtrades.date = base.date and numtrades.systemid = base.systemid and numtrades.statname = 'numtrades'\n",
    "join historical_stats_modern avgDollarPosLosers on avgDollarPosLosers.date = base.date and avgDollarPosLosers.systemid = base.systemid and avgDollarPosLosers.statname = 'avgDollarPosLosers'\n",
    "join historical_stats_modern avgDollarPosWinners on avgDollarPosWinners.date = base.date and avgDollarPosWinners.systemid = base.systemid and avgDollarPosWinners.statname = 'avgDollarPosWinners'\n",
    "where base.systemid = 13202557 \n",
    "order by 1;\n",
    "~~~\n",
    " \n",
    "![Image](./docs/Extremeos_stats.png)\n",
    "\n",
    "****\n"
   ]
  },
  {
   "cell_type": "markdown",
   "metadata": {},
   "source": [
    "### Daniil's formula (v1)\n",
    "\n",
    "Replicate Collective2 Scoring Workbench functionality using just SQL.\n",
    "\n",
    "This is an SQL code for [Daniil's formula (v1)](https://svancara.github.io/C2QuantAPI/daniil_formula_v1.html). \n",
    "\n",
    "\n",
    "~~~sql\n",
    "#  ---------- Plain with all data  ----------\n",
    "select * from (\n",
    "\t\t\tselect\n",
    "\t\t\t    StrategyId, \n",
    "\t\t\t    StrategyName, \n",
    "\t\t\t    Added,\n",
    "\t\t\t    -- Risk\n",
    "\t\t\t    ((20 - MaxDrawdownPcnt * (20/45))\n",
    "\t\t\t    + case when MaxWorstLossPercentEquity060 is null \n",
    "                       then 0 else 20 - MaxWorstLossPercentEquity060 * (20.0/8) end  \n",
    "\t\t\t    + (10 - OptionPercent * (10/1))\n",
    "\t\t\t    + case when ShortOptionsCovered >= 100 then 10 else ShortOptionsCovered / 100 * 10 end \n",
    "\t\t\t    -- Behavior\n",
    "\t\t\t    + case when AgeDays >= 720 then 40 else AgeDays/720 * 40 end  \n",
    "\t\t\t    + (20 - DailyMaxLevMax * (20/10)) \n",
    "\t\t\t    + case when TradeDaysAgo <= 60 then 20 else 0 end\n",
    "\t\t\t    + case when PcntMonthsProfitable >= 100 then 5 else PcntMonthsProfitable / 100 * 5 end\n",
    "\t\t\t    + case when NumTrades >= 100 then 20 else NumTrades / 100 * 20 end\n",
    "\t\t\t    + case when DeltaEquity90Days <= 0 and DeltaEquity90Days > -7 then 5 else 0 end\n",
    "\t\t\t    -- Profitability \n",
    "\t\t\t    + case when AnnReturn > 0.6 then 20 else AnnReturn / 0.6 * 20 end)\n",
    "\t\t\t    as Score, \n",
    "\t\t\t    c2score_ScoringWorkbenchView.*\n",
    "\t\t\tfrom c2score_ScoringWorkbenchView\n",
    "\t\t\twhere AgeDays > 90 and AnnReturn > 0 and DeltaEquity180Days > 0\n",
    "\t\t\t) as sub\n",
    " where Score > 0\n",
    " order by Score desc;\n",
    "~~~\n",
    "\n",
    "![Image](./docs/PostgreSQL_Daniil01_plain.png)"
   ]
  }
 ],
 "metadata": {
  "kernelspec": {
   "display_name": "Python 3 (ipykernel)",
   "language": "python",
   "name": "python3"
  },
  "language_info": {
   "codemirror_mode": {
    "name": "ipython",
    "version": 3
   },
   "file_extension": ".py",
   "mimetype": "text/x-python",
   "name": "python",
   "nbconvert_exporter": "python",
   "pygments_lexer": "ipython3",
   "version": "3.8.10"
  },
  "widgets": {
   "application/vnd.jupyter.widget-state+json": {
    "state": {},
    "version_major": 2,
    "version_minor": 0
   }
  }
 },
 "nbformat": 4,
 "nbformat_minor": 4
}
