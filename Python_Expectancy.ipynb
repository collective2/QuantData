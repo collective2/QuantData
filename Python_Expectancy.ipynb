{
 "cells": [
  {
   "cell_type": "markdown",
   "metadata": {},
   "source": [
    "# Python: Expectancy\n",
    "\n",
    "Let's try Expectancy. \n",
    "\n",
    "Based on:\n",
    "- https://www.learningmarkets.com/determining-expectancy-in-your-trading/\n",
    "- http://www.unicorn.us.com/trading/expectancy.html"
   ]
  },
  {
   "cell_type": "code",
   "execution_count": 10,
   "metadata": {},
   "outputs": [],
   "source": [
    "import psycopg2\n",
    "import pandas as pd\n",
    "import plotly.express as px\n",
    "from IPython.core.display import HTML\n",
    "from IPython.display import display, Image"
   ]
  },
  {
   "cell_type": "code",
   "execution_count": 11,
   "metadata": {},
   "outputs": [
    {
     "name": "stdout",
     "output_type": "stream",
     "text": [
      "Date used: 2021-12-20\n"
     ]
    }
   ],
   "source": [
    "# Connect to the database\n",
    "conn = psycopg2.connect(host=\"quantdata.collective2.com\",database=\"postgres\",user=\"c2public\",password=\"c2public\")\n",
    "\n",
    "cursor = conn.cursor()\n",
    "\n",
    "# Get max. date we have in stats \n",
    "sql = \"select max(date) from historical_stats_modern where statname in ('cARdefault','deltaequityp180');\"\n",
    "cursor.execute(sql)\n",
    "maxDate = cursor.fetchone()\n",
    "\n",
    "# Prepare SQL text\n",
    "sqlTemplate = \"\"\"select \n",
    "    r.systemid,\n",
    "    c2systems.systemname, \n",
    "    ((AvgWin / AvgLoss) - (cast(numloss as float) / numtrades)) as Expectancy,\n",
    "    annReturn.statval as AnnReturn,\n",
    "    deltaequityp180.statval as DeltaEquityp180,\n",
    "    (cast(numwins as float) / numtrades) as WinRatio,\n",
    "    (cast(numloss as float) / numtrades) as LossRatio,\n",
    "    AvgWin, \n",
    "    AvgLoss,\n",
    "    cast(AvgWin / AvgLoss as float) as RewardToRisk,\n",
    "    numtrades, \n",
    "    numwins, \n",
    "    numloss \n",
    "from c2ex_results r  \n",
    "join c2systems on c2systems.systemid = r.systemid \n",
    "-- Select by AnnReturn. Based on Daniil's work.\n",
    "join historical_stats_modern annReturn \n",
    "        on annReturn.systemid = r.systemid \n",
    "        and annReturn.date = '{date}'\n",
    "        and annReturn.statname = 'cARdefault' \n",
    "        and annReturn.statval > 0\n",
    "-- Select by DeltaEquityp180. Based on Daniil's work.        \n",
    "join historical_stats_modern deltaequityp180 \n",
    "        on deltaequityp180.systemid = r.systemid \n",
    "        and deltaequityp180.date = '{date}'\n",
    "        and deltaequityp180.statname = 'deltaequityp180' \n",
    "        and deltaequityp180.statval > 0\n",
    "where\n",
    "-- Select systems live on maxDate (from equities table)\n",
    "(c2systems.systemid IN ( SELECT distinct(systemid) FROM returnsdatainintervalscleanedskip090 where DateStart = '{maxDate}'))\n",
    "and numtrades > 100 -- a reasonable amount for stats\n",
    "and numwins > 0 -- no losers, please\n",
    "and avgloss > 0 -- divider\n",
    ";\"\"\"\n",
    "\n",
    "# Format maxDate for SQL\n",
    "maxDateStr = str(maxDate[0])\n",
    "\n",
    "# Create an SQL command from the template:\n",
    "sql = sqlTemplate.format(date = maxDate[0], maxDate = maxDateStr)\n",
    "\n",
    "# Run SQL\n",
    "cursor.execute(sql)\n",
    "dbData = cursor.fetchall()\n",
    "cursor.close()\n",
    "print(\"Date used:\",maxDateStr)"
   ]
  },
  {
   "cell_type": "code",
   "execution_count": 12,
   "metadata": {},
   "outputs": [
    {
     "data": {
      "text/html": [
       "<div>\n",
       "<style scoped>\n",
       "    .dataframe tbody tr th:only-of-type {\n",
       "        vertical-align: middle;\n",
       "    }\n",
       "\n",
       "    .dataframe tbody tr th {\n",
       "        vertical-align: top;\n",
       "    }\n",
       "\n",
       "    .dataframe thead th {\n",
       "        text-align: right;\n",
       "    }\n",
       "</style>\n",
       "<table border=\"1\" class=\"dataframe\">\n",
       "  <thead>\n",
       "    <tr style=\"text-align: right;\">\n",
       "      <th></th>\n",
       "      <th>SystemId</th>\n",
       "      <th>Name</th>\n",
       "      <th>Expectancy</th>\n",
       "      <th>AnnReturn</th>\n",
       "      <th>DeltaEquityp180</th>\n",
       "      <th>WinRatio</th>\n",
       "      <th>LossRatio</th>\n",
       "      <th>AvgWin</th>\n",
       "      <th>AvgLoss</th>\n",
       "      <th>RewardToRisk</th>\n",
       "      <th>NumTrades</th>\n",
       "      <th>NumWins</th>\n",
       "      <th>NumLoss</th>\n",
       "    </tr>\n",
       "  </thead>\n",
       "  <tbody>\n",
       "    <tr>\n",
       "      <th>53</th>\n",
       "      <td>131825719</td>\n",
       "      <td>Options US</td>\n",
       "      <td>19.141</td>\n",
       "      <td>0.18570</td>\n",
       "      <td>3.50000</td>\n",
       "      <td>0.986</td>\n",
       "      <td>0.014</td>\n",
       "      <td>172.39</td>\n",
       "      <td>9.00</td>\n",
       "      <td>19.154</td>\n",
       "      <td>146</td>\n",
       "      <td>144</td>\n",
       "      <td>2</td>\n",
       "    </tr>\n",
       "    <tr>\n",
       "      <th>3</th>\n",
       "      <td>96866107</td>\n",
       "      <td>Brands With Momentum</td>\n",
       "      <td>5.910</td>\n",
       "      <td>0.36530</td>\n",
       "      <td>17.60000</td>\n",
       "      <td>0.568</td>\n",
       "      <td>0.432</td>\n",
       "      <td>1719.97</td>\n",
       "      <td>271.19</td>\n",
       "      <td>6.342</td>\n",
       "      <td>132</td>\n",
       "      <td>75</td>\n",
       "      <td>57</td>\n",
       "    </tr>\n",
       "    <tr>\n",
       "      <th>86</th>\n",
       "      <td>135738325</td>\n",
       "      <td>Momentum Futures</td>\n",
       "      <td>3.985</td>\n",
       "      <td>0.77650</td>\n",
       "      <td>15.30000</td>\n",
       "      <td>0.215</td>\n",
       "      <td>0.785</td>\n",
       "      <td>1774.09</td>\n",
       "      <td>371.87</td>\n",
       "      <td>4.771</td>\n",
       "      <td>303</td>\n",
       "      <td>65</td>\n",
       "      <td>238</td>\n",
       "    </tr>\n",
       "    <tr>\n",
       "      <th>16</th>\n",
       "      <td>117734561</td>\n",
       "      <td>TQQQ Aspire</td>\n",
       "      <td>2.951</td>\n",
       "      <td>0.53640</td>\n",
       "      <td>47.90000</td>\n",
       "      <td>0.394</td>\n",
       "      <td>0.606</td>\n",
       "      <td>2977.42</td>\n",
       "      <td>837.04</td>\n",
       "      <td>3.557</td>\n",
       "      <td>132</td>\n",
       "      <td>52</td>\n",
       "      <td>80</td>\n",
       "    </tr>\n",
       "    <tr>\n",
       "      <th>36</th>\n",
       "      <td>128627295</td>\n",
       "      <td>Interlink Futures</td>\n",
       "      <td>2.831</td>\n",
       "      <td>0.72770</td>\n",
       "      <td>127.70000</td>\n",
       "      <td>0.285</td>\n",
       "      <td>0.715</td>\n",
       "      <td>2530.94</td>\n",
       "      <td>713.84</td>\n",
       "      <td>3.546</td>\n",
       "      <td>442</td>\n",
       "      <td>126</td>\n",
       "      <td>316</td>\n",
       "    </tr>\n",
       "    <tr>\n",
       "      <th>...</th>\n",
       "      <td>...</td>\n",
       "      <td>...</td>\n",
       "      <td>...</td>\n",
       "      <td>...</td>\n",
       "      <td>...</td>\n",
       "      <td>...</td>\n",
       "      <td>...</td>\n",
       "      <td>...</td>\n",
       "      <td>...</td>\n",
       "      <td>...</td>\n",
       "      <td>...</td>\n",
       "      <td>...</td>\n",
       "      <td>...</td>\n",
       "    </tr>\n",
       "    <tr>\n",
       "      <th>73</th>\n",
       "      <td>135046330</td>\n",
       "      <td>Premium Capital</td>\n",
       "      <td>0.321</td>\n",
       "      <td>0.61010</td>\n",
       "      <td>33.50000</td>\n",
       "      <td>0.756</td>\n",
       "      <td>0.244</td>\n",
       "      <td>141.97</td>\n",
       "      <td>251.17</td>\n",
       "      <td>0.565</td>\n",
       "      <td>643</td>\n",
       "      <td>486</td>\n",
       "      <td>157</td>\n",
       "    </tr>\n",
       "    <tr>\n",
       "      <th>13</th>\n",
       "      <td>116569489</td>\n",
       "      <td>FX Alpha Signal</td>\n",
       "      <td>0.318</td>\n",
       "      <td>0.14260</td>\n",
       "      <td>35.10000</td>\n",
       "      <td>0.746</td>\n",
       "      <td>0.254</td>\n",
       "      <td>4144.17</td>\n",
       "      <td>7241.21</td>\n",
       "      <td>0.572</td>\n",
       "      <td>169</td>\n",
       "      <td>126</td>\n",
       "      <td>43</td>\n",
       "    </tr>\n",
       "    <tr>\n",
       "      <th>38</th>\n",
       "      <td>129020902</td>\n",
       "      <td>FOREX VIX</td>\n",
       "      <td>0.249</td>\n",
       "      <td>0.15480</td>\n",
       "      <td>14.70000</td>\n",
       "      <td>0.679</td>\n",
       "      <td>0.321</td>\n",
       "      <td>169.33</td>\n",
       "      <td>296.90</td>\n",
       "      <td>0.570</td>\n",
       "      <td>361</td>\n",
       "      <td>245</td>\n",
       "      <td>116</td>\n",
       "    </tr>\n",
       "    <tr>\n",
       "      <th>0</th>\n",
       "      <td>13202557</td>\n",
       "      <td>extreme-os</td>\n",
       "      <td>0.240</td>\n",
       "      <td>0.28070</td>\n",
       "      <td>14.00000</td>\n",
       "      <td>0.727</td>\n",
       "      <td>0.273</td>\n",
       "      <td>827.87</td>\n",
       "      <td>1613.59</td>\n",
       "      <td>0.513</td>\n",
       "      <td>4247</td>\n",
       "      <td>3087</td>\n",
       "      <td>1160</td>\n",
       "    </tr>\n",
       "    <tr>\n",
       "      <th>58</th>\n",
       "      <td>132385399</td>\n",
       "      <td>Data Miner AI 3</td>\n",
       "      <td>0.207</td>\n",
       "      <td>0.19060</td>\n",
       "      <td>0.30000</td>\n",
       "      <td>0.744</td>\n",
       "      <td>0.256</td>\n",
       "      <td>112.06</td>\n",
       "      <td>241.87</td>\n",
       "      <td>0.463</td>\n",
       "      <td>776</td>\n",
       "      <td>577</td>\n",
       "      <td>199</td>\n",
       "    </tr>\n",
       "  </tbody>\n",
       "</table>\n",
       "<p>88 rows × 13 columns</p>\n",
       "</div>"
      ],
      "text/plain": [
       "     SystemId                  Name  Expectancy AnnReturn DeltaEquityp180  \\\n",
       "53  131825719            Options US      19.141   0.18570         3.50000   \n",
       "3    96866107  Brands With Momentum       5.910   0.36530        17.60000   \n",
       "86  135738325      Momentum Futures       3.985   0.77650        15.30000   \n",
       "16  117734561           TQQQ Aspire       2.951   0.53640        47.90000   \n",
       "36  128627295     Interlink Futures       2.831   0.72770       127.70000   \n",
       "..        ...                   ...         ...       ...             ...   \n",
       "73  135046330       Premium Capital       0.321   0.61010        33.50000   \n",
       "13  116569489       FX Alpha Signal       0.318   0.14260        35.10000   \n",
       "38  129020902             FOREX VIX       0.249   0.15480        14.70000   \n",
       "0    13202557            extreme-os       0.240   0.28070        14.00000   \n",
       "58  132385399       Data Miner AI 3       0.207   0.19060         0.30000   \n",
       "\n",
       "    WinRatio  LossRatio   AvgWin  AvgLoss  RewardToRisk  NumTrades  NumWins  \\\n",
       "53     0.986      0.014   172.39     9.00        19.154        146      144   \n",
       "3      0.568      0.432  1719.97   271.19         6.342        132       75   \n",
       "86     0.215      0.785  1774.09   371.87         4.771        303       65   \n",
       "16     0.394      0.606  2977.42   837.04         3.557        132       52   \n",
       "36     0.285      0.715  2530.94   713.84         3.546        442      126   \n",
       "..       ...        ...      ...      ...           ...        ...      ...   \n",
       "73     0.756      0.244   141.97   251.17         0.565        643      486   \n",
       "13     0.746      0.254  4144.17  7241.21         0.572        169      126   \n",
       "38     0.679      0.321   169.33   296.90         0.570        361      245   \n",
       "0      0.727      0.273   827.87  1613.59         0.513       4247     3087   \n",
       "58     0.744      0.256   112.06   241.87         0.463        776      577   \n",
       "\n",
       "    NumLoss  \n",
       "53        2  \n",
       "3        57  \n",
       "86      238  \n",
       "16       80  \n",
       "36      316  \n",
       "..      ...  \n",
       "73      157  \n",
       "13       43  \n",
       "38      116  \n",
       "0      1160  \n",
       "58      199  \n",
       "\n",
       "[88 rows x 13 columns]"
      ]
     },
     "metadata": {},
     "output_type": "display_data"
    }
   ],
   "source": [
    "# Convert dbData to pandas dataframe.\n",
    "df = pd.DataFrame(dbData, \n",
    "                  columns=['SystemId','Name','Expectancy','AnnReturn','DeltaEquityp180',\n",
    "                           'WinRatio','LossRatio','AvgWin','AvgLoss','RewardToRisk','NumTrades','NumWins','NumLoss'])\n",
    "\n",
    "# Select strategies having Expectancy above some value\n",
    "df = df[df['Expectancy'] > 0.2] \n",
    "# Sort by Expectancy descending\n",
    "df.sort_values(by=['Expectancy'], ascending=False, inplace=True) \n",
    "# Round nubers\n",
    "df = df.round(decimals=3)\n",
    "display(df)"
   ]
  },
  {
   "cell_type": "code",
   "execution_count": 14,
   "metadata": {},
   "outputs": [],
   "source": [
    "html = df.to_html()\n",
    "file = open(\"expectancy.html\",\"w\")\n",
    "file.write(html)\n",
    "file.close()"
   ]
  },
  {
   "cell_type": "markdown",
   "metadata": {},
   "source": [
    "[See expectancy.html](https://collective2.github.io/QuantData/Documentation/expectancy.html)"
   ]
  },
  {
   "cell_type": "code",
   "execution_count": 15,
   "metadata": {},
   "outputs": [
    {
     "data": {
      "text/html": [
       "<img src=\"https://collective2.com/cgi-perl/xcharts200.mpl?want=nft&width=200&height=150&systemid=131825719\"/>"
      ],
      "text/plain": [
       "<IPython.core.display.Image object>"
      ]
     },
     "metadata": {},
     "output_type": "display_data"
    },
    {
     "name": "stdout",
     "output_type": "stream",
     "text": [
      "Options US (#131825719) Expectancy: 19.141\n"
     ]
    },
    {
     "data": {
      "text/html": [
       "<hr/>"
      ],
      "text/plain": [
       "<IPython.core.display.HTML object>"
      ]
     },
     "metadata": {},
     "output_type": "display_data"
    },
    {
     "data": {
      "text/html": [
       "<img src=\"https://collective2.com/cgi-perl/xcharts200.mpl?want=nft&width=200&height=150&systemid=96866107\"/>"
      ],
      "text/plain": [
       "<IPython.core.display.Image object>"
      ]
     },
     "metadata": {},
     "output_type": "display_data"
    },
    {
     "name": "stdout",
     "output_type": "stream",
     "text": [
      "Brands With Momentum (#96866107) Expectancy: 5.91\n"
     ]
    },
    {
     "data": {
      "text/html": [
       "<hr/>"
      ],
      "text/plain": [
       "<IPython.core.display.HTML object>"
      ]
     },
     "metadata": {},
     "output_type": "display_data"
    },
    {
     "data": {
      "text/html": [
       "<img src=\"https://collective2.com/cgi-perl/xcharts200.mpl?want=nft&width=200&height=150&systemid=135738325\"/>"
      ],
      "text/plain": [
       "<IPython.core.display.Image object>"
      ]
     },
     "metadata": {},
     "output_type": "display_data"
    },
    {
     "name": "stdout",
     "output_type": "stream",
     "text": [
      "Momentum Futures (#135738325) Expectancy: 3.985\n"
     ]
    },
    {
     "data": {
      "text/html": [
       "<hr/>"
      ],
      "text/plain": [
       "<IPython.core.display.HTML object>"
      ]
     },
     "metadata": {},
     "output_type": "display_data"
    },
    {
     "data": {
      "text/html": [
       "<img src=\"https://collective2.com/cgi-perl/xcharts200.mpl?want=nft&width=200&height=150&systemid=117734561\"/>"
      ],
      "text/plain": [
       "<IPython.core.display.Image object>"
      ]
     },
     "metadata": {},
     "output_type": "display_data"
    },
    {
     "name": "stdout",
     "output_type": "stream",
     "text": [
      "TQQQ Aspire (#117734561) Expectancy: 2.951\n"
     ]
    },
    {
     "data": {
      "text/html": [
       "<hr/>"
      ],
      "text/plain": [
       "<IPython.core.display.HTML object>"
      ]
     },
     "metadata": {},
     "output_type": "display_data"
    },
    {
     "data": {
      "text/html": [
       "<img src=\"https://collective2.com/cgi-perl/xcharts200.mpl?want=nft&width=200&height=150&systemid=128627295\"/>"
      ],
      "text/plain": [
       "<IPython.core.display.Image object>"
      ]
     },
     "metadata": {},
     "output_type": "display_data"
    },
    {
     "name": "stdout",
     "output_type": "stream",
     "text": [
      "Interlink Futures (#128627295) Expectancy: 2.831\n"
     ]
    },
    {
     "data": {
      "text/html": [
       "<hr/>"
      ],
      "text/plain": [
       "<IPython.core.display.HTML object>"
      ]
     },
     "metadata": {},
     "output_type": "display_data"
    },
    {
     "data": {
      "text/html": [
       "<img src=\"https://collective2.com/cgi-perl/xcharts200.mpl?want=nft&width=200&height=150&systemid=135390252\"/>"
      ],
      "text/plain": [
       "<IPython.core.display.Image object>"
      ]
     },
     "metadata": {},
     "output_type": "display_data"
    },
    {
     "name": "stdout",
     "output_type": "stream",
     "text": [
      "Hologram by FDG (#135390252) Expectancy: 2.422\n"
     ]
    },
    {
     "data": {
      "text/html": [
       "<hr/>"
      ],
      "text/plain": [
       "<IPython.core.display.HTML object>"
      ]
     },
     "metadata": {},
     "output_type": "display_data"
    },
    {
     "data": {
      "text/html": [
       "<img src=\"https://collective2.com/cgi-perl/xcharts200.mpl?want=nft&width=200&height=150&systemid=130734315\"/>"
      ],
      "text/plain": [
       "<IPython.core.display.Image object>"
      ]
     },
     "metadata": {},
     "output_type": "display_data"
    },
    {
     "name": "stdout",
     "output_type": "stream",
     "text": [
      "Patience for Manual (#130734315) Expectancy: 2.379\n"
     ]
    },
    {
     "data": {
      "text/html": [
       "<hr/>"
      ],
      "text/plain": [
       "<IPython.core.display.HTML object>"
      ]
     },
     "metadata": {},
     "output_type": "display_data"
    },
    {
     "data": {
      "text/html": [
       "<img src=\"https://collective2.com/cgi-perl/xcharts200.mpl?want=nft&width=200&height=150&systemid=129875048\"/>"
      ],
      "text/plain": [
       "<IPython.core.display.Image object>"
      ]
     },
     "metadata": {},
     "output_type": "display_data"
    },
    {
     "name": "stdout",
     "output_type": "stream",
     "text": [
      "Mischmasch (#129875048) Expectancy: 2.343\n"
     ]
    },
    {
     "data": {
      "text/html": [
       "<hr/>"
      ],
      "text/plain": [
       "<IPython.core.display.HTML object>"
      ]
     },
     "metadata": {},
     "output_type": "display_data"
    },
    {
     "data": {
      "text/html": [
       "<img src=\"https://collective2.com/cgi-perl/xcharts200.mpl?want=nft&width=200&height=150&systemid=115316008\"/>"
      ],
      "text/plain": [
       "<IPython.core.display.Image object>"
      ]
     },
     "metadata": {},
     "output_type": "display_data"
    },
    {
     "name": "stdout",
     "output_type": "stream",
     "text": [
      "Forensic Alpha (#115316008) Expectancy: 2.315\n"
     ]
    },
    {
     "data": {
      "text/html": [
       "<hr/>"
      ],
      "text/plain": [
       "<IPython.core.display.HTML object>"
      ]
     },
     "metadata": {},
     "output_type": "display_data"
    },
    {
     "data": {
      "text/html": [
       "<img src=\"https://collective2.com/cgi-perl/xcharts200.mpl?want=nft&width=200&height=150&systemid=123231599\"/>"
      ],
      "text/plain": [
       "<IPython.core.display.Image object>"
      ]
     },
     "metadata": {},
     "output_type": "display_data"
    },
    {
     "name": "stdout",
     "output_type": "stream",
     "text": [
      "SUPER15H Hedged Stocks (#123231599) Expectancy: 2.099\n"
     ]
    },
    {
     "data": {
      "text/html": [
       "<hr/>"
      ],
      "text/plain": [
       "<IPython.core.display.HTML object>"
      ]
     },
     "metadata": {},
     "output_type": "display_data"
    },
    {
     "data": {
      "text/html": [
       "<img src=\"https://collective2.com/cgi-perl/xcharts200.mpl?want=nft&width=200&height=150&systemid=105498828\"/>"
      ],
      "text/plain": [
       "<IPython.core.display.Image object>"
      ]
     },
     "metadata": {},
     "output_type": "display_data"
    },
    {
     "name": "stdout",
     "output_type": "stream",
     "text": [
      "4QTiming NDX3x (#105498828) Expectancy: 2.07\n"
     ]
    },
    {
     "data": {
      "text/html": [
       "<hr/>"
      ],
      "text/plain": [
       "<IPython.core.display.HTML object>"
      ]
     },
     "metadata": {},
     "output_type": "display_data"
    },
    {
     "data": {
      "text/html": [
       "<img src=\"https://collective2.com/cgi-perl/xcharts200.mpl?want=nft&width=200&height=150&systemid=125624499\"/>"
      ],
      "text/plain": [
       "<IPython.core.display.Image object>"
      ]
     },
     "metadata": {},
     "output_type": "display_data"
    },
    {
     "name": "stdout",
     "output_type": "stream",
     "text": [
      "dow m (#125624499) Expectancy: 2.06\n"
     ]
    },
    {
     "data": {
      "text/html": [
       "<hr/>"
      ],
      "text/plain": [
       "<IPython.core.display.HTML object>"
      ]
     },
     "metadata": {},
     "output_type": "display_data"
    },
    {
     "data": {
      "text/html": [
       "<img src=\"https://collective2.com/cgi-perl/xcharts200.mpl?want=nft&width=200&height=150&systemid=131145247\"/>"
      ],
      "text/plain": [
       "<IPython.core.display.Image object>"
      ]
     },
     "metadata": {},
     "output_type": "display_data"
    },
    {
     "name": "stdout",
     "output_type": "stream",
     "text": [
      "ares (#131145247) Expectancy: 1.886\n"
     ]
    },
    {
     "data": {
      "text/html": [
       "<hr/>"
      ],
      "text/plain": [
       "<IPython.core.display.HTML object>"
      ]
     },
     "metadata": {},
     "output_type": "display_data"
    },
    {
     "data": {
      "text/html": [
       "<img src=\"https://collective2.com/cgi-perl/xcharts200.mpl?want=nft&width=200&height=150&systemid=130018805\"/>"
      ],
      "text/plain": [
       "<IPython.core.display.Image object>"
      ]
     },
     "metadata": {},
     "output_type": "display_data"
    },
    {
     "name": "stdout",
     "output_type": "stream",
     "text": [
      "Stocks for Div yield (#130018805) Expectancy: 1.843\n"
     ]
    },
    {
     "data": {
      "text/html": [
       "<hr/>"
      ],
      "text/plain": [
       "<IPython.core.display.HTML object>"
      ]
     },
     "metadata": {},
     "output_type": "display_data"
    },
    {
     "data": {
      "text/html": [
       "<img src=\"https://collective2.com/cgi-perl/xcharts200.mpl?want=nft&width=200&height=150&systemid=102081384\"/>"
      ],
      "text/plain": [
       "<IPython.core.display.Image object>"
      ]
     },
     "metadata": {},
     "output_type": "display_data"
    },
    {
     "name": "stdout",
     "output_type": "stream",
     "text": [
      "OPN W8868 (#102081384) Expectancy: 1.769\n"
     ]
    },
    {
     "data": {
      "text/html": [
       "<hr/>"
      ],
      "text/plain": [
       "<IPython.core.display.HTML object>"
      ]
     },
     "metadata": {},
     "output_type": "display_data"
    },
    {
     "data": {
      "text/html": [
       "<img src=\"https://collective2.com/cgi-perl/xcharts200.mpl?want=nft&width=200&height=150&systemid=129730261\"/>"
      ],
      "text/plain": [
       "<IPython.core.display.Image object>"
      ]
     },
     "metadata": {},
     "output_type": "display_data"
    },
    {
     "name": "stdout",
     "output_type": "stream",
     "text": [
      "Stocks proof (#129730261) Expectancy: 1.769\n"
     ]
    },
    {
     "data": {
      "text/html": [
       "<hr/>"
      ],
      "text/plain": [
       "<IPython.core.display.HTML object>"
      ]
     },
     "metadata": {},
     "output_type": "display_data"
    },
    {
     "data": {
      "text/html": [
       "<img src=\"https://collective2.com/cgi-perl/xcharts200.mpl?want=nft&width=200&height=150&systemid=120622361\"/>"
      ],
      "text/plain": [
       "<IPython.core.display.Image object>"
      ]
     },
     "metadata": {},
     "output_type": "display_data"
    },
    {
     "name": "stdout",
     "output_type": "stream",
     "text": [
      "NQ KingPin (#120622361) Expectancy: 1.747\n"
     ]
    },
    {
     "data": {
      "text/html": [
       "<hr/>"
      ],
      "text/plain": [
       "<IPython.core.display.HTML object>"
      ]
     },
     "metadata": {},
     "output_type": "display_data"
    },
    {
     "data": {
      "text/html": [
       "<img src=\"https://collective2.com/cgi-perl/xcharts200.mpl?want=nft&width=200&height=150&systemid=124291951\"/>"
      ],
      "text/plain": [
       "<IPython.core.display.Image object>"
      ]
     },
     "metadata": {},
     "output_type": "display_data"
    },
    {
     "name": "stdout",
     "output_type": "stream",
     "text": [
      "Hail To The King (#124291951) Expectancy: 1.739\n"
     ]
    },
    {
     "data": {
      "text/html": [
       "<hr/>"
      ],
      "text/plain": [
       "<IPython.core.display.HTML object>"
      ]
     },
     "metadata": {},
     "output_type": "display_data"
    },
    {
     "data": {
      "text/html": [
       "<img src=\"https://collective2.com/cgi-perl/xcharts200.mpl?want=nft&width=200&height=150&systemid=132165642\"/>"
      ],
      "text/plain": [
       "<IPython.core.display.Image object>"
      ]
     },
     "metadata": {},
     "output_type": "display_data"
    },
    {
     "name": "stdout",
     "output_type": "stream",
     "text": [
      "SUPER08H Hedged Stocks (#132165642) Expectancy: 1.593\n"
     ]
    },
    {
     "data": {
      "text/html": [
       "<hr/>"
      ],
      "text/plain": [
       "<IPython.core.display.HTML object>"
      ]
     },
     "metadata": {},
     "output_type": "display_data"
    },
    {
     "data": {
      "text/html": [
       "<img src=\"https://collective2.com/cgi-perl/xcharts200.mpl?want=nft&width=200&height=150&systemid=106187009\"/>"
      ],
      "text/plain": [
       "<IPython.core.display.Image object>"
      ]
     },
     "metadata": {},
     "output_type": "display_data"
    },
    {
     "name": "stdout",
     "output_type": "stream",
     "text": [
      "Dual QM18 (#106187009) Expectancy: 1.574\n"
     ]
    },
    {
     "data": {
      "text/html": [
       "<hr/>"
      ],
      "text/plain": [
       "<IPython.core.display.HTML object>"
      ]
     },
     "metadata": {},
     "output_type": "display_data"
    },
    {
     "data": {
      "text/html": [
       "<img src=\"https://collective2.com/cgi-perl/xcharts200.mpl?want=nft&width=200&height=150&systemid=132251176\"/>"
      ],
      "text/plain": [
       "<IPython.core.display.Image object>"
      ]
     },
     "metadata": {},
     "output_type": "display_data"
    },
    {
     "name": "stdout",
     "output_type": "stream",
     "text": [
      "3Algo Emini (#132251176) Expectancy: 1.555\n"
     ]
    },
    {
     "data": {
      "text/html": [
       "<hr/>"
      ],
      "text/plain": [
       "<IPython.core.display.HTML object>"
      ]
     },
     "metadata": {},
     "output_type": "display_data"
    },
    {
     "data": {
      "text/html": [
       "<img src=\"https://collective2.com/cgi-perl/xcharts200.mpl?want=nft&width=200&height=150&systemid=135830827\"/>"
      ],
      "text/plain": [
       "<IPython.core.display.Image object>"
      ]
     },
     "metadata": {},
     "output_type": "display_data"
    },
    {
     "name": "stdout",
     "output_type": "stream",
     "text": [
      "Fuzzy Maths (#135830827) Expectancy: 1.484\n"
     ]
    },
    {
     "data": {
      "text/html": [
       "<hr/>"
      ],
      "text/plain": [
       "<IPython.core.display.HTML object>"
      ]
     },
     "metadata": {},
     "output_type": "display_data"
    },
    {
     "data": {
      "text/html": [
       "<img src=\"https://collective2.com/cgi-perl/xcharts200.mpl?want=nft&width=200&height=150&systemid=117442067\"/>"
      ],
      "text/plain": [
       "<IPython.core.display.Image object>"
      ]
     },
     "metadata": {},
     "output_type": "display_data"
    },
    {
     "name": "stdout",
     "output_type": "stream",
     "text": [
      "Carma Managed Futures (#117442067) Expectancy: 1.446\n"
     ]
    },
    {
     "data": {
      "text/html": [
       "<hr/>"
      ],
      "text/plain": [
       "<IPython.core.display.HTML object>"
      ]
     },
     "metadata": {},
     "output_type": "display_data"
    },
    {
     "data": {
      "text/html": [
       "<img src=\"https://collective2.com/cgi-perl/xcharts200.mpl?want=nft&width=200&height=150&systemid=133743692\"/>"
      ],
      "text/plain": [
       "<IPython.core.display.Image object>"
      ]
     },
     "metadata": {},
     "output_type": "display_data"
    },
    {
     "name": "stdout",
     "output_type": "stream",
     "text": [
      "FX and Futures (#133743692) Expectancy: 1.435\n"
     ]
    },
    {
     "data": {
      "text/html": [
       "<hr/>"
      ],
      "text/plain": [
       "<IPython.core.display.HTML object>"
      ]
     },
     "metadata": {},
     "output_type": "display_data"
    },
    {
     "data": {
      "text/html": [
       "<img src=\"https://collective2.com/cgi-perl/xcharts200.mpl?want=nft&width=200&height=150&systemid=129695001\"/>"
      ],
      "text/plain": [
       "<IPython.core.display.Image object>"
      ]
     },
     "metadata": {},
     "output_type": "display_data"
    },
    {
     "name": "stdout",
     "output_type": "stream",
     "text": [
      "Aduna Capital (#129695001) Expectancy: 1.371\n"
     ]
    },
    {
     "data": {
      "text/html": [
       "<hr/>"
      ],
      "text/plain": [
       "<IPython.core.display.HTML object>"
      ]
     },
     "metadata": {},
     "output_type": "display_data"
    },
    {
     "data": {
      "text/html": [
       "<img src=\"https://collective2.com/cgi-perl/xcharts200.mpl?want=nft&width=200&height=150&systemid=126454200\"/>"
      ],
      "text/plain": [
       "<IPython.core.display.Image object>"
      ]
     },
     "metadata": {},
     "output_type": "display_data"
    },
    {
     "name": "stdout",
     "output_type": "stream",
     "text": [
      "GardCap Discretionary (#126454200) Expectancy: 1.276\n"
     ]
    },
    {
     "data": {
      "text/html": [
       "<hr/>"
      ],
      "text/plain": [
       "<IPython.core.display.HTML object>"
      ]
     },
     "metadata": {},
     "output_type": "display_data"
    },
    {
     "data": {
      "text/html": [
       "<img src=\"https://collective2.com/cgi-perl/xcharts200.mpl?want=nft&width=200&height=150&systemid=124696549\"/>"
      ],
      "text/plain": [
       "<IPython.core.display.Image object>"
      ]
     },
     "metadata": {},
     "output_type": "display_data"
    },
    {
     "name": "stdout",
     "output_type": "stream",
     "text": [
      "4Timing Trend ML (#124696549) Expectancy: 1.245\n"
     ]
    },
    {
     "data": {
      "text/html": [
       "<hr/>"
      ],
      "text/plain": [
       "<IPython.core.display.HTML object>"
      ]
     },
     "metadata": {},
     "output_type": "display_data"
    },
    {
     "data": {
      "text/html": [
       "<img src=\"https://collective2.com/cgi-perl/xcharts200.mpl?want=nft&width=200&height=150&systemid=130482646\"/>"
      ],
      "text/plain": [
       "<IPython.core.display.Image object>"
      ]
     },
     "metadata": {},
     "output_type": "display_data"
    },
    {
     "name": "stdout",
     "output_type": "stream",
     "text": [
      "Stock Booster MNQ (#130482646) Expectancy: 1.228\n"
     ]
    },
    {
     "data": {
      "text/html": [
       "<hr/>"
      ],
      "text/plain": [
       "<IPython.core.display.HTML object>"
      ]
     },
     "metadata": {},
     "output_type": "display_data"
    },
    {
     "data": {
      "text/html": [
       "<img src=\"https://collective2.com/cgi-perl/xcharts200.mpl?want=nft&width=200&height=150&systemid=136069737\"/>"
      ],
      "text/plain": [
       "<IPython.core.display.Image object>"
      ]
     },
     "metadata": {},
     "output_type": "display_data"
    },
    {
     "name": "stdout",
     "output_type": "stream",
     "text": [
      "Crystal Ball 1 (#136069737) Expectancy: 1.176\n"
     ]
    },
    {
     "data": {
      "text/html": [
       "<hr/>"
      ],
      "text/plain": [
       "<IPython.core.display.HTML object>"
      ]
     },
     "metadata": {},
     "output_type": "display_data"
    },
    {
     "data": {
      "text/html": [
       "<img src=\"https://collective2.com/cgi-perl/xcharts200.mpl?want=nft&width=200&height=150&systemid=117216629\"/>"
      ],
      "text/plain": [
       "<IPython.core.display.Image object>"
      ]
     },
     "metadata": {},
     "output_type": "display_data"
    },
    {
     "name": "stdout",
     "output_type": "stream",
     "text": [
      "sharp Sharpe ES (#117216629) Expectancy: 1.13\n"
     ]
    },
    {
     "data": {
      "text/html": [
       "<hr/>"
      ],
      "text/plain": [
       "<IPython.core.display.HTML object>"
      ]
     },
     "metadata": {},
     "output_type": "display_data"
    }
   ],
   "source": [
    "# Show the first 30 strategies here, in this notebook\n",
    "for index, row in df[0:30].iterrows():\n",
    "    c2url= \"https://collective2.com/cgi-perl/xcharts200.mpl?want=nft&width=200&height=150&systemid={systemid}\".format(systemid = row['SystemId'])\n",
    "    img = Image(url=c2url)\n",
    "    display(img)\n",
    "    line = \"{systemname} (#{systemid}) Expectancy: {expect}\".format(systemname = row['Name'], systemid = row['SystemId'],expect=row['Expectancy']) \n",
    "    print(line)\n",
    "    display(HTML(\"<hr/>\"))\n"
   ]
  }
 ],
 "metadata": {
  "kernelspec": {
   "display_name": "Python 3 (ipykernel)",
   "language": "python",
   "name": "python3"
  },
  "language_info": {
   "codemirror_mode": {
    "name": "ipython",
    "version": 3
   },
   "file_extension": ".py",
   "mimetype": "text/x-python",
   "name": "python",
   "nbconvert_exporter": "python",
   "pygments_lexer": "ipython3",
   "version": "3.8.10"
  },
  "widgets": {
   "application/vnd.jupyter.widget-state+json": {
    "state": {},
    "version_major": 2,
    "version_minor": 0
   }
  }
 },
 "nbformat": 4,
 "nbformat_minor": 4
}
