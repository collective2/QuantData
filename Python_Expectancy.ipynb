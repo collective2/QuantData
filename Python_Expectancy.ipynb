{
 "cells": [
  {
   "cell_type": "markdown",
   "metadata": {},
   "source": [
    "# Python: Expectancy\n",
    "\n",
    "Let's try Expectancy. \n",
    "\n",
    "Based on:\n",
    "- https://www.learningmarkets.com/determining-expectancy-in-your-trading/\n",
    "- http://www.unicorn.us.com/trading/expectancy.html"
   ]
  },
  {
   "cell_type": "code",
   "execution_count": 1,
   "metadata": {},
   "outputs": [],
   "source": [
    "import psycopg2\n",
    "import pandas as pd\n",
    "import plotly.express as px\n",
    "from IPython.core.display import HTML\n",
    "from IPython.display import display, Image"
   ]
  },
  {
   "cell_type": "code",
   "execution_count": 2,
   "metadata": {},
   "outputs": [
    {
     "name": "stdout",
     "output_type": "stream",
     "text": [
      "Date used: 2021-11-29\n"
     ]
    }
   ],
   "source": [
    "# Connect to the database\n",
    "conn = psycopg2.connect(host=\"quantdata.collective2.com\",database=\"postgres\",user=\"c2public\",password=\"c2public\")\n",
    "cursor = conn.cursor()\n",
    "\n",
    "# Get max. date we have in stats \n",
    "sql = \"select max(date) from historical_stats_modern;\"\n",
    "cursor.execute(sql)\n",
    "maxDate = cursor.fetchone()\n",
    "\n",
    "# Prepare SQL text\n",
    "sqlTemplate = \"\"\"select \n",
    "    r.systemid,\n",
    "    c2systems.systemname, \n",
    "    ((AvgWin / AvgLoss) - (cast(numloss as float) / numtrades)) as Expectancy,\n",
    "    annReturn.statval as AnnReturn,\n",
    "    deltaequityp180.statval as DeltaEquityp180,\n",
    "    (cast(numwins as float) / numtrades) as WinRatio,\n",
    "    (cast(numloss as float) / numtrades) as LossRatio,\n",
    "    AvgWin, \n",
    "    AvgLoss,\n",
    "    cast(AvgWin / AvgLoss as float) as RewardToRisk,\n",
    "    numtrades, \n",
    "    numwins, \n",
    "    numloss \n",
    "from c2ex_results r  \n",
    "join c2systems on c2systems.systemid = r.systemid \n",
    "-- Select by AnnReturn. Based on Daniil's work.\n",
    "join historical_stats_modern annReturn \n",
    "        on annReturn.systemid = r.systemid \n",
    "        and annReturn.date = '{date}'\n",
    "        and annReturn.statname = 'cARdefault' \n",
    "        and annReturn.statval > 0\n",
    "-- Select by DeltaEquityp180. Based on Daniil's work.        \n",
    "join historical_stats_modern deltaequityp180 \n",
    "        on deltaequityp180.systemid = r.systemid \n",
    "        and deltaequityp180.date = '{date}'\n",
    "        and deltaequityp180.statname = 'deltaequityp180' \n",
    "        and deltaequityp180.statval > 0\n",
    "where\n",
    "-- Select systems live on maxDate (from equities table)\n",
    "(c2systems.systemid IN ( SELECT distinct(systemid) FROM returnsdatainintervalscleanedskip090 where DateStart = '{maxDate}'))\n",
    "and numtrades > 100 -- a reasonable amount for stats\n",
    "and numwins > 0 -- no losers, please\n",
    "and avgloss > 0 -- divider\n",
    ";\"\"\"\n",
    "\n",
    "# Format maxDate for SQL\n",
    "maxDateStr = str(maxDate[0])\n",
    "maxDateFormatted = maxDateStr[0:4] + \"-\" + maxDateStr[4:6] + \"-\" + maxDateStr[6:8]\n",
    "\n",
    "# Create an SQL command from the template:\n",
    "sql = sqlTemplate.format(date = maxDate[0], maxDate = maxDateStr)\n",
    "\n",
    "# Run SQL\n",
    "cursor.execute(sql)\n",
    "dbData = cursor.fetchall()\n",
    "cursor.close()\n",
    "print(\"Date used:\",maxDateStr)"
   ]
  },
  {
   "cell_type": "code",
   "execution_count": 3,
   "metadata": {},
   "outputs": [
    {
     "data": {
      "text/html": [
       "<div>\n",
       "<style scoped>\n",
       "    .dataframe tbody tr th:only-of-type {\n",
       "        vertical-align: middle;\n",
       "    }\n",
       "\n",
       "    .dataframe tbody tr th {\n",
       "        vertical-align: top;\n",
       "    }\n",
       "\n",
       "    .dataframe thead th {\n",
       "        text-align: right;\n",
       "    }\n",
       "</style>\n",
       "<table border=\"1\" class=\"dataframe\">\n",
       "  <thead>\n",
       "    <tr style=\"text-align: right;\">\n",
       "      <th></th>\n",
       "      <th>SystemId</th>\n",
       "      <th>Name</th>\n",
       "      <th>Expectancy</th>\n",
       "      <th>AnnReturn</th>\n",
       "      <th>DeltaEquityp180</th>\n",
       "      <th>WinRatio</th>\n",
       "      <th>LossRatio</th>\n",
       "      <th>AvgWin</th>\n",
       "      <th>AvgLoss</th>\n",
       "      <th>RewardToRisk</th>\n",
       "      <th>NumTrades</th>\n",
       "      <th>NumWins</th>\n",
       "      <th>NumLoss</th>\n",
       "    </tr>\n",
       "  </thead>\n",
       "  <tbody>\n",
       "    <tr>\n",
       "      <th>1</th>\n",
       "      <td>96866107</td>\n",
       "      <td>Brands With Momentum</td>\n",
       "      <td>5.382</td>\n",
       "      <td>0.38060</td>\n",
       "      <td>37.00000</td>\n",
       "      <td>0.545</td>\n",
       "      <td>0.455</td>\n",
       "      <td>1714.82</td>\n",
       "      <td>293.83</td>\n",
       "      <td>5.836</td>\n",
       "      <td>132</td>\n",
       "      <td>72</td>\n",
       "      <td>60</td>\n",
       "    </tr>\n",
       "    <tr>\n",
       "      <th>93</th>\n",
       "      <td>135738325</td>\n",
       "      <td>Momentum Futures</td>\n",
       "      <td>3.770</td>\n",
       "      <td>1.18200</td>\n",
       "      <td>35.80000</td>\n",
       "      <td>0.229</td>\n",
       "      <td>0.771</td>\n",
       "      <td>1691.23</td>\n",
       "      <td>372.49</td>\n",
       "      <td>4.540</td>\n",
       "      <td>266</td>\n",
       "      <td>61</td>\n",
       "      <td>205</td>\n",
       "    </tr>\n",
       "    <tr>\n",
       "      <th>14</th>\n",
       "      <td>117734561</td>\n",
       "      <td>TQQQ Aspire</td>\n",
       "      <td>3.043</td>\n",
       "      <td>0.56860</td>\n",
       "      <td>59.80000</td>\n",
       "      <td>0.391</td>\n",
       "      <td>0.609</td>\n",
       "      <td>2981.76</td>\n",
       "      <td>816.47</td>\n",
       "      <td>3.652</td>\n",
       "      <td>128</td>\n",
       "      <td>50</td>\n",
       "      <td>78</td>\n",
       "    </tr>\n",
       "    <tr>\n",
       "      <th>38</th>\n",
       "      <td>128627295</td>\n",
       "      <td>Interlink Futures</td>\n",
       "      <td>2.896</td>\n",
       "      <td>0.76920</td>\n",
       "      <td>79.70000</td>\n",
       "      <td>0.281</td>\n",
       "      <td>0.719</td>\n",
       "      <td>2556.74</td>\n",
       "      <td>707.41</td>\n",
       "      <td>3.614</td>\n",
       "      <td>430</td>\n",
       "      <td>121</td>\n",
       "      <td>309</td>\n",
       "    </tr>\n",
       "    <tr>\n",
       "      <th>19</th>\n",
       "      <td>124190857</td>\n",
       "      <td>ES No Guts No Glory</td>\n",
       "      <td>2.632</td>\n",
       "      <td>0.46490</td>\n",
       "      <td>0.90000</td>\n",
       "      <td>0.292</td>\n",
       "      <td>0.708</td>\n",
       "      <td>3088.02</td>\n",
       "      <td>924.45</td>\n",
       "      <td>3.340</td>\n",
       "      <td>168</td>\n",
       "      <td>49</td>\n",
       "      <td>119</td>\n",
       "    </tr>\n",
       "    <tr>\n",
       "      <th>...</th>\n",
       "      <td>...</td>\n",
       "      <td>...</td>\n",
       "      <td>...</td>\n",
       "      <td>...</td>\n",
       "      <td>...</td>\n",
       "      <td>...</td>\n",
       "      <td>...</td>\n",
       "      <td>...</td>\n",
       "      <td>...</td>\n",
       "      <td>...</td>\n",
       "      <td>...</td>\n",
       "      <td>...</td>\n",
       "      <td>...</td>\n",
       "    </tr>\n",
       "    <tr>\n",
       "      <th>27</th>\n",
       "      <td>125486879</td>\n",
       "      <td>My Live Portfolio</td>\n",
       "      <td>0.265</td>\n",
       "      <td>0.49440</td>\n",
       "      <td>9.40000</td>\n",
       "      <td>0.897</td>\n",
       "      <td>0.103</td>\n",
       "      <td>195.25</td>\n",
       "      <td>531.09</td>\n",
       "      <td>0.368</td>\n",
       "      <td>437</td>\n",
       "      <td>392</td>\n",
       "      <td>45</td>\n",
       "    </tr>\n",
       "    <tr>\n",
       "      <th>41</th>\n",
       "      <td>129020902</td>\n",
       "      <td>FOREX VIX</td>\n",
       "      <td>0.254</td>\n",
       "      <td>0.15370</td>\n",
       "      <td>46.60000</td>\n",
       "      <td>0.675</td>\n",
       "      <td>0.325</td>\n",
       "      <td>170.90</td>\n",
       "      <td>295.40</td>\n",
       "      <td>0.579</td>\n",
       "      <td>360</td>\n",
       "      <td>243</td>\n",
       "      <td>117</td>\n",
       "    </tr>\n",
       "    <tr>\n",
       "      <th>11</th>\n",
       "      <td>116569489</td>\n",
       "      <td>FX Alpha Signal</td>\n",
       "      <td>0.240</td>\n",
       "      <td>0.13800</td>\n",
       "      <td>8.40000</td>\n",
       "      <td>0.746</td>\n",
       "      <td>0.254</td>\n",
       "      <td>4298.37</td>\n",
       "      <td>8695.19</td>\n",
       "      <td>0.494</td>\n",
       "      <td>169</td>\n",
       "      <td>126</td>\n",
       "      <td>43</td>\n",
       "    </tr>\n",
       "    <tr>\n",
       "      <th>0</th>\n",
       "      <td>13202557</td>\n",
       "      <td>extreme-os</td>\n",
       "      <td>0.235</td>\n",
       "      <td>0.28010</td>\n",
       "      <td>13.20000</td>\n",
       "      <td>0.727</td>\n",
       "      <td>0.273</td>\n",
       "      <td>822.56</td>\n",
       "      <td>1619.40</td>\n",
       "      <td>0.508</td>\n",
       "      <td>4235</td>\n",
       "      <td>3077</td>\n",
       "      <td>1158</td>\n",
       "    </tr>\n",
       "    <tr>\n",
       "      <th>59</th>\n",
       "      <td>132385399</td>\n",
       "      <td>Data Miner AI 3</td>\n",
       "      <td>0.205</td>\n",
       "      <td>0.20670</td>\n",
       "      <td>1.20000</td>\n",
       "      <td>0.746</td>\n",
       "      <td>0.254</td>\n",
       "      <td>112.41</td>\n",
       "      <td>244.65</td>\n",
       "      <td>0.459</td>\n",
       "      <td>767</td>\n",
       "      <td>572</td>\n",
       "      <td>195</td>\n",
       "    </tr>\n",
       "  </tbody>\n",
       "</table>\n",
       "<p>90 rows × 13 columns</p>\n",
       "</div>"
      ],
      "text/plain": [
       "     SystemId                  Name  Expectancy AnnReturn DeltaEquityp180  \\\n",
       "1    96866107  Brands With Momentum       5.382   0.38060        37.00000   \n",
       "93  135738325      Momentum Futures       3.770   1.18200        35.80000   \n",
       "14  117734561           TQQQ Aspire       3.043   0.56860        59.80000   \n",
       "38  128627295     Interlink Futures       2.896   0.76920        79.70000   \n",
       "19  124190857   ES No Guts No Glory       2.632   0.46490         0.90000   \n",
       "..        ...                   ...         ...       ...             ...   \n",
       "27  125486879     My Live Portfolio       0.265   0.49440         9.40000   \n",
       "41  129020902             FOREX VIX       0.254   0.15370        46.60000   \n",
       "11  116569489       FX Alpha Signal       0.240   0.13800         8.40000   \n",
       "0    13202557            extreme-os       0.235   0.28010        13.20000   \n",
       "59  132385399       Data Miner AI 3       0.205   0.20670         1.20000   \n",
       "\n",
       "    WinRatio  LossRatio   AvgWin  AvgLoss  RewardToRisk  NumTrades  NumWins  \\\n",
       "1      0.545      0.455  1714.82   293.83         5.836        132       72   \n",
       "93     0.229      0.771  1691.23   372.49         4.540        266       61   \n",
       "14     0.391      0.609  2981.76   816.47         3.652        128       50   \n",
       "38     0.281      0.719  2556.74   707.41         3.614        430      121   \n",
       "19     0.292      0.708  3088.02   924.45         3.340        168       49   \n",
       "..       ...        ...      ...      ...           ...        ...      ...   \n",
       "27     0.897      0.103   195.25   531.09         0.368        437      392   \n",
       "41     0.675      0.325   170.90   295.40         0.579        360      243   \n",
       "11     0.746      0.254  4298.37  8695.19         0.494        169      126   \n",
       "0      0.727      0.273   822.56  1619.40         0.508       4235     3077   \n",
       "59     0.746      0.254   112.41   244.65         0.459        767      572   \n",
       "\n",
       "    NumLoss  \n",
       "1        60  \n",
       "93      205  \n",
       "14       78  \n",
       "38      309  \n",
       "19      119  \n",
       "..      ...  \n",
       "27       45  \n",
       "41      117  \n",
       "11       43  \n",
       "0      1158  \n",
       "59      195  \n",
       "\n",
       "[90 rows x 13 columns]"
      ]
     },
     "metadata": {},
     "output_type": "display_data"
    }
   ],
   "source": [
    "# Convert dbData to pandas dataframe.\n",
    "df = pd.DataFrame(dbData, \n",
    "                  columns=['SystemId','Name','Expectancy','AnnReturn','DeltaEquityp180',\n",
    "                           'WinRatio','LossRatio','AvgWin','AvgLoss','RewardToRisk','NumTrades','NumWins','NumLoss'])\n",
    "\n",
    "# Select strategies having Expectancy above some value\n",
    "df = df[df['Expectancy'] > 0.2] \n",
    "# Sort by Expectancy descending\n",
    "df.sort_values(by=['Expectancy'], ascending=False, inplace=True) \n",
    "# Round nubers\n",
    "df = df.round(decimals=3)\n",
    "display(df)"
   ]
  },
  {
   "cell_type": "code",
   "execution_count": 4,
   "metadata": {},
   "outputs": [],
   "source": [
    "html = df.to_html()\n",
    "file = open(\"expectancy.html\",\"w\")\n",
    "file.write(html)\n",
    "file.close()"
   ]
  },
  {
   "cell_type": "markdown",
   "metadata": {},
   "source": [
    "[See expectancy.html](https://collective2.github.io/QuantData/Documentation/expectancy.html)"
   ]
  },
  {
   "cell_type": "code",
   "execution_count": 5,
   "metadata": {},
   "outputs": [
    {
     "data": {
      "text/html": [
       "<img src=\"https://collective2.com/cgi-perl/xcharts200.mpl?want=nft&width=200&height=150&systemid=96866107\"/>"
      ],
      "text/plain": [
       "<IPython.core.display.Image object>"
      ]
     },
     "metadata": {},
     "output_type": "display_data"
    },
    {
     "name": "stdout",
     "output_type": "stream",
     "text": [
      "Brands With Momentum (#96866107) Expectancy: 5.382\n"
     ]
    },
    {
     "data": {
      "text/html": [
       "<hr/>"
      ],
      "text/plain": [
       "<IPython.core.display.HTML object>"
      ]
     },
     "metadata": {},
     "output_type": "display_data"
    },
    {
     "data": {
      "text/html": [
       "<img src=\"https://collective2.com/cgi-perl/xcharts200.mpl?want=nft&width=200&height=150&systemid=135738325\"/>"
      ],
      "text/plain": [
       "<IPython.core.display.Image object>"
      ]
     },
     "metadata": {},
     "output_type": "display_data"
    },
    {
     "name": "stdout",
     "output_type": "stream",
     "text": [
      "Momentum Futures (#135738325) Expectancy: 3.77\n"
     ]
    },
    {
     "data": {
      "text/html": [
       "<hr/>"
      ],
      "text/plain": [
       "<IPython.core.display.HTML object>"
      ]
     },
     "metadata": {},
     "output_type": "display_data"
    },
    {
     "data": {
      "text/html": [
       "<img src=\"https://collective2.com/cgi-perl/xcharts200.mpl?want=nft&width=200&height=150&systemid=117734561\"/>"
      ],
      "text/plain": [
       "<IPython.core.display.Image object>"
      ]
     },
     "metadata": {},
     "output_type": "display_data"
    },
    {
     "name": "stdout",
     "output_type": "stream",
     "text": [
      "TQQQ Aspire (#117734561) Expectancy: 3.043\n"
     ]
    },
    {
     "data": {
      "text/html": [
       "<hr/>"
      ],
      "text/plain": [
       "<IPython.core.display.HTML object>"
      ]
     },
     "metadata": {},
     "output_type": "display_data"
    },
    {
     "data": {
      "text/html": [
       "<img src=\"https://collective2.com/cgi-perl/xcharts200.mpl?want=nft&width=200&height=150&systemid=128627295\"/>"
      ],
      "text/plain": [
       "<IPython.core.display.Image object>"
      ]
     },
     "metadata": {},
     "output_type": "display_data"
    },
    {
     "name": "stdout",
     "output_type": "stream",
     "text": [
      "Interlink Futures (#128627295) Expectancy: 2.896\n"
     ]
    },
    {
     "data": {
      "text/html": [
       "<hr/>"
      ],
      "text/plain": [
       "<IPython.core.display.HTML object>"
      ]
     },
     "metadata": {},
     "output_type": "display_data"
    },
    {
     "data": {
      "text/html": [
       "<img src=\"https://collective2.com/cgi-perl/xcharts200.mpl?want=nft&width=200&height=150&systemid=124190857\"/>"
      ],
      "text/plain": [
       "<IPython.core.display.Image object>"
      ]
     },
     "metadata": {},
     "output_type": "display_data"
    },
    {
     "name": "stdout",
     "output_type": "stream",
     "text": [
      "ES No Guts No Glory (#124190857) Expectancy: 2.632\n"
     ]
    },
    {
     "data": {
      "text/html": [
       "<hr/>"
      ],
      "text/plain": [
       "<IPython.core.display.HTML object>"
      ]
     },
     "metadata": {},
     "output_type": "display_data"
    },
    {
     "data": {
      "text/html": [
       "<img src=\"https://collective2.com/cgi-perl/xcharts200.mpl?want=nft&width=200&height=150&systemid=130734315\"/>"
      ],
      "text/plain": [
       "<IPython.core.display.Image object>"
      ]
     },
     "metadata": {},
     "output_type": "display_data"
    },
    {
     "name": "stdout",
     "output_type": "stream",
     "text": [
      "Patience for Manual (#130734315) Expectancy: 2.609\n"
     ]
    },
    {
     "data": {
      "text/html": [
       "<hr/>"
      ],
      "text/plain": [
       "<IPython.core.display.HTML object>"
      ]
     },
     "metadata": {},
     "output_type": "display_data"
    },
    {
     "data": {
      "text/html": [
       "<img src=\"https://collective2.com/cgi-perl/xcharts200.mpl?want=nft&width=200&height=150&systemid=115316008\"/>"
      ],
      "text/plain": [
       "<IPython.core.display.Image object>"
      ]
     },
     "metadata": {},
     "output_type": "display_data"
    },
    {
     "name": "stdout",
     "output_type": "stream",
     "text": [
      "Forensic Alpha (#115316008) Expectancy: 2.219\n"
     ]
    },
    {
     "data": {
      "text/html": [
       "<hr/>"
      ],
      "text/plain": [
       "<IPython.core.display.HTML object>"
      ]
     },
     "metadata": {},
     "output_type": "display_data"
    },
    {
     "data": {
      "text/html": [
       "<img src=\"https://collective2.com/cgi-perl/xcharts200.mpl?want=nft&width=200&height=150&systemid=125624499\"/>"
      ],
      "text/plain": [
       "<IPython.core.display.Image object>"
      ]
     },
     "metadata": {},
     "output_type": "display_data"
    },
    {
     "name": "stdout",
     "output_type": "stream",
     "text": [
      "dow m (#125624499) Expectancy: 2.144\n"
     ]
    },
    {
     "data": {
      "text/html": [
       "<hr/>"
      ],
      "text/plain": [
       "<IPython.core.display.HTML object>"
      ]
     },
     "metadata": {},
     "output_type": "display_data"
    },
    {
     "data": {
      "text/html": [
       "<img src=\"https://collective2.com/cgi-perl/xcharts200.mpl?want=nft&width=200&height=150&systemid=123231599\"/>"
      ],
      "text/plain": [
       "<IPython.core.display.Image object>"
      ]
     },
     "metadata": {},
     "output_type": "display_data"
    },
    {
     "name": "stdout",
     "output_type": "stream",
     "text": [
      "SUPER15H Hedged Stocks (#123231599) Expectancy: 2.09\n"
     ]
    },
    {
     "data": {
      "text/html": [
       "<hr/>"
      ],
      "text/plain": [
       "<IPython.core.display.HTML object>"
      ]
     },
     "metadata": {},
     "output_type": "display_data"
    },
    {
     "data": {
      "text/html": [
       "<img src=\"https://collective2.com/cgi-perl/xcharts200.mpl?want=nft&width=200&height=150&systemid=105498828\"/>"
      ],
      "text/plain": [
       "<IPython.core.display.Image object>"
      ]
     },
     "metadata": {},
     "output_type": "display_data"
    },
    {
     "name": "stdout",
     "output_type": "stream",
     "text": [
      "4QTiming NDX3x (#105498828) Expectancy: 2.072\n"
     ]
    },
    {
     "data": {
      "text/html": [
       "<hr/>"
      ],
      "text/plain": [
       "<IPython.core.display.HTML object>"
      ]
     },
     "metadata": {},
     "output_type": "display_data"
    },
    {
     "data": {
      "text/html": [
       "<img src=\"https://collective2.com/cgi-perl/xcharts200.mpl?want=nft&width=200&height=150&systemid=111648302\"/>"
      ],
      "text/plain": [
       "<IPython.core.display.Image object>"
      ]
     },
     "metadata": {},
     "output_type": "display_data"
    },
    {
     "name": "stdout",
     "output_type": "stream",
     "text": [
      "Foster Capital Growth (#111648302) Expectancy: 1.952\n"
     ]
    },
    {
     "data": {
      "text/html": [
       "<hr/>"
      ],
      "text/plain": [
       "<IPython.core.display.HTML object>"
      ]
     },
     "metadata": {},
     "output_type": "display_data"
    },
    {
     "data": {
      "text/html": [
       "<img src=\"https://collective2.com/cgi-perl/xcharts200.mpl?want=nft&width=200&height=150&systemid=130018805\"/>"
      ],
      "text/plain": [
       "<IPython.core.display.Image object>"
      ]
     },
     "metadata": {},
     "output_type": "display_data"
    },
    {
     "name": "stdout",
     "output_type": "stream",
     "text": [
      "Stocks for Div yield (#130018805) Expectancy: 1.861\n"
     ]
    },
    {
     "data": {
      "text/html": [
       "<hr/>"
      ],
      "text/plain": [
       "<IPython.core.display.HTML object>"
      ]
     },
     "metadata": {},
     "output_type": "display_data"
    },
    {
     "data": {
      "text/html": [
       "<img src=\"https://collective2.com/cgi-perl/xcharts200.mpl?want=nft&width=200&height=150&systemid=131145247\"/>"
      ],
      "text/plain": [
       "<IPython.core.display.Image object>"
      ]
     },
     "metadata": {},
     "output_type": "display_data"
    },
    {
     "name": "stdout",
     "output_type": "stream",
     "text": [
      "ares (#131145247) Expectancy: 1.842\n"
     ]
    },
    {
     "data": {
      "text/html": [
       "<hr/>"
      ],
      "text/plain": [
       "<IPython.core.display.HTML object>"
      ]
     },
     "metadata": {},
     "output_type": "display_data"
    },
    {
     "data": {
      "text/html": [
       "<img src=\"https://collective2.com/cgi-perl/xcharts200.mpl?want=nft&width=200&height=150&systemid=124291951\"/>"
      ],
      "text/plain": [
       "<IPython.core.display.Image object>"
      ]
     },
     "metadata": {},
     "output_type": "display_data"
    },
    {
     "name": "stdout",
     "output_type": "stream",
     "text": [
      "Hail To The King (#124291951) Expectancy: 1.764\n"
     ]
    },
    {
     "data": {
      "text/html": [
       "<hr/>"
      ],
      "text/plain": [
       "<IPython.core.display.HTML object>"
      ]
     },
     "metadata": {},
     "output_type": "display_data"
    },
    {
     "data": {
      "text/html": [
       "<img src=\"https://collective2.com/cgi-perl/xcharts200.mpl?want=nft&width=200&height=150&systemid=133743692\"/>"
      ],
      "text/plain": [
       "<IPython.core.display.Image object>"
      ]
     },
     "metadata": {},
     "output_type": "display_data"
    },
    {
     "name": "stdout",
     "output_type": "stream",
     "text": [
      "FX and Futures (#133743692) Expectancy: 1.763\n"
     ]
    },
    {
     "data": {
      "text/html": [
       "<hr/>"
      ],
      "text/plain": [
       "<IPython.core.display.HTML object>"
      ]
     },
     "metadata": {},
     "output_type": "display_data"
    },
    {
     "data": {
      "text/html": [
       "<img src=\"https://collective2.com/cgi-perl/xcharts200.mpl?want=nft&width=200&height=150&systemid=120622361\"/>"
      ],
      "text/plain": [
       "<IPython.core.display.Image object>"
      ]
     },
     "metadata": {},
     "output_type": "display_data"
    },
    {
     "name": "stdout",
     "output_type": "stream",
     "text": [
      "NQ KingPin (#120622361) Expectancy: 1.739\n"
     ]
    },
    {
     "data": {
      "text/html": [
       "<hr/>"
      ],
      "text/plain": [
       "<IPython.core.display.HTML object>"
      ]
     },
     "metadata": {},
     "output_type": "display_data"
    },
    {
     "data": {
      "text/html": [
       "<img src=\"https://collective2.com/cgi-perl/xcharts200.mpl?want=nft&width=200&height=150&systemid=129730261\"/>"
      ],
      "text/plain": [
       "<IPython.core.display.Image object>"
      ]
     },
     "metadata": {},
     "output_type": "display_data"
    },
    {
     "name": "stdout",
     "output_type": "stream",
     "text": [
      "Stocks proof (#129730261) Expectancy: 1.679\n"
     ]
    },
    {
     "data": {
      "text/html": [
       "<hr/>"
      ],
      "text/plain": [
       "<IPython.core.display.HTML object>"
      ]
     },
     "metadata": {},
     "output_type": "display_data"
    },
    {
     "data": {
      "text/html": [
       "<img src=\"https://collective2.com/cgi-perl/xcharts200.mpl?want=nft&width=200&height=150&systemid=132165642\"/>"
      ],
      "text/plain": [
       "<IPython.core.display.Image object>"
      ]
     },
     "metadata": {},
     "output_type": "display_data"
    },
    {
     "name": "stdout",
     "output_type": "stream",
     "text": [
      "SUPER08H Hedged Stocks (#132165642) Expectancy: 1.62\n"
     ]
    },
    {
     "data": {
      "text/html": [
       "<hr/>"
      ],
      "text/plain": [
       "<IPython.core.display.HTML object>"
      ]
     },
     "metadata": {},
     "output_type": "display_data"
    },
    {
     "data": {
      "text/html": [
       "<img src=\"https://collective2.com/cgi-perl/xcharts200.mpl?want=nft&width=200&height=150&systemid=132251176\"/>"
      ],
      "text/plain": [
       "<IPython.core.display.Image object>"
      ]
     },
     "metadata": {},
     "output_type": "display_data"
    },
    {
     "name": "stdout",
     "output_type": "stream",
     "text": [
      "3Algo Emini (#132251176) Expectancy: 1.607\n"
     ]
    },
    {
     "data": {
      "text/html": [
       "<hr/>"
      ],
      "text/plain": [
       "<IPython.core.display.HTML object>"
      ]
     },
     "metadata": {},
     "output_type": "display_data"
    },
    {
     "data": {
      "text/html": [
       "<img src=\"https://collective2.com/cgi-perl/xcharts200.mpl?want=nft&width=200&height=150&systemid=135390252\"/>"
      ],
      "text/plain": [
       "<IPython.core.display.Image object>"
      ]
     },
     "metadata": {},
     "output_type": "display_data"
    },
    {
     "name": "stdout",
     "output_type": "stream",
     "text": [
      "Hologram by FDG (#135390252) Expectancy: 1.551\n"
     ]
    },
    {
     "data": {
      "text/html": [
       "<hr/>"
      ],
      "text/plain": [
       "<IPython.core.display.HTML object>"
      ]
     },
     "metadata": {},
     "output_type": "display_data"
    },
    {
     "data": {
      "text/html": [
       "<img src=\"https://collective2.com/cgi-perl/xcharts200.mpl?want=nft&width=200&height=150&systemid=106187009\"/>"
      ],
      "text/plain": [
       "<IPython.core.display.Image object>"
      ]
     },
     "metadata": {},
     "output_type": "display_data"
    },
    {
     "name": "stdout",
     "output_type": "stream",
     "text": [
      "Dual QM18 (#106187009) Expectancy: 1.551\n"
     ]
    },
    {
     "data": {
      "text/html": [
       "<hr/>"
      ],
      "text/plain": [
       "<IPython.core.display.HTML object>"
      ]
     },
     "metadata": {},
     "output_type": "display_data"
    },
    {
     "data": {
      "text/html": [
       "<img src=\"https://collective2.com/cgi-perl/xcharts200.mpl?want=nft&width=200&height=150&systemid=126454200\"/>"
      ],
      "text/plain": [
       "<IPython.core.display.Image object>"
      ]
     },
     "metadata": {},
     "output_type": "display_data"
    },
    {
     "name": "stdout",
     "output_type": "stream",
     "text": [
      "GardCap Discretionary (#126454200) Expectancy: 1.448\n"
     ]
    },
    {
     "data": {
      "text/html": [
       "<hr/>"
      ],
      "text/plain": [
       "<IPython.core.display.HTML object>"
      ]
     },
     "metadata": {},
     "output_type": "display_data"
    },
    {
     "data": {
      "text/html": [
       "<img src=\"https://collective2.com/cgi-perl/xcharts200.mpl?want=nft&width=200&height=150&systemid=117442067\"/>"
      ],
      "text/plain": [
       "<IPython.core.display.Image object>"
      ]
     },
     "metadata": {},
     "output_type": "display_data"
    },
    {
     "name": "stdout",
     "output_type": "stream",
     "text": [
      "Carma Managed Futures (#117442067) Expectancy: 1.437\n"
     ]
    },
    {
     "data": {
      "text/html": [
       "<hr/>"
      ],
      "text/plain": [
       "<IPython.core.display.HTML object>"
      ]
     },
     "metadata": {},
     "output_type": "display_data"
    },
    {
     "data": {
      "text/html": [
       "<img src=\"https://collective2.com/cgi-perl/xcharts200.mpl?want=nft&width=200&height=150&systemid=129695001\"/>"
      ],
      "text/plain": [
       "<IPython.core.display.Image object>"
      ]
     },
     "metadata": {},
     "output_type": "display_data"
    },
    {
     "name": "stdout",
     "output_type": "stream",
     "text": [
      "Aduna Capital (#129695001) Expectancy: 1.432\n"
     ]
    },
    {
     "data": {
      "text/html": [
       "<hr/>"
      ],
      "text/plain": [
       "<IPython.core.display.HTML object>"
      ]
     },
     "metadata": {},
     "output_type": "display_data"
    },
    {
     "data": {
      "text/html": [
       "<img src=\"https://collective2.com/cgi-perl/xcharts200.mpl?want=nft&width=200&height=150&systemid=134255487\"/>"
      ],
      "text/plain": [
       "<IPython.core.display.Image object>"
      ]
     },
     "metadata": {},
     "output_type": "display_data"
    },
    {
     "name": "stdout",
     "output_type": "stream",
     "text": [
      "foxre (#134255487) Expectancy: 1.287\n"
     ]
    },
    {
     "data": {
      "text/html": [
       "<hr/>"
      ],
      "text/plain": [
       "<IPython.core.display.HTML object>"
      ]
     },
     "metadata": {},
     "output_type": "display_data"
    },
    {
     "data": {
      "text/html": [
       "<img src=\"https://collective2.com/cgi-perl/xcharts200.mpl?want=nft&width=200&height=150&systemid=134255352\"/>"
      ],
      "text/plain": [
       "<IPython.core.display.Image object>"
      ]
     },
     "metadata": {},
     "output_type": "display_data"
    },
    {
     "name": "stdout",
     "output_type": "stream",
     "text": [
      "tqqqnqq (#134255352) Expectancy: 1.26\n"
     ]
    },
    {
     "data": {
      "text/html": [
       "<hr/>"
      ],
      "text/plain": [
       "<IPython.core.display.HTML object>"
      ]
     },
     "metadata": {},
     "output_type": "display_data"
    },
    {
     "data": {
      "text/html": [
       "<img src=\"https://collective2.com/cgi-perl/xcharts200.mpl?want=nft&width=200&height=150&systemid=124727146\"/>"
      ],
      "text/plain": [
       "<IPython.core.display.Image object>"
      ]
     },
     "metadata": {},
     "output_type": "display_data"
    },
    {
     "name": "stdout",
     "output_type": "stream",
     "text": [
      "TQQQSQQQ (#124727146) Expectancy: 1.183\n"
     ]
    },
    {
     "data": {
      "text/html": [
       "<hr/>"
      ],
      "text/plain": [
       "<IPython.core.display.HTML object>"
      ]
     },
     "metadata": {},
     "output_type": "display_data"
    },
    {
     "data": {
      "text/html": [
       "<img src=\"https://collective2.com/cgi-perl/xcharts200.mpl?want=nft&width=200&height=150&systemid=135282700\"/>"
      ],
      "text/plain": [
       "<IPython.core.display.Image object>"
      ]
     },
     "metadata": {},
     "output_type": "display_data"
    },
    {
     "name": "stdout",
     "output_type": "stream",
     "text": [
      "Star  sp500 (#135282700) Expectancy: 1.165\n"
     ]
    },
    {
     "data": {
      "text/html": [
       "<hr/>"
      ],
      "text/plain": [
       "<IPython.core.display.HTML object>"
      ]
     },
     "metadata": {},
     "output_type": "display_data"
    },
    {
     "data": {
      "text/html": [
       "<img src=\"https://collective2.com/cgi-perl/xcharts200.mpl?want=nft&width=200&height=150&systemid=128751974\"/>"
      ],
      "text/plain": [
       "<IPython.core.display.Image object>"
      ]
     },
     "metadata": {},
     "output_type": "display_data"
    },
    {
     "name": "stdout",
     "output_type": "stream",
     "text": [
      "3Algo Futures (#128751974) Expectancy: 1.15\n"
     ]
    },
    {
     "data": {
      "text/html": [
       "<hr/>"
      ],
      "text/plain": [
       "<IPython.core.display.HTML object>"
      ]
     },
     "metadata": {},
     "output_type": "display_data"
    },
    {
     "data": {
      "text/html": [
       "<img src=\"https://collective2.com/cgi-perl/xcharts200.mpl?want=nft&width=200&height=150&systemid=124696549\"/>"
      ],
      "text/plain": [
       "<IPython.core.display.Image object>"
      ]
     },
     "metadata": {},
     "output_type": "display_data"
    },
    {
     "name": "stdout",
     "output_type": "stream",
     "text": [
      "4Timing Trend ML (#124696549) Expectancy: 1.138\n"
     ]
    },
    {
     "data": {
      "text/html": [
       "<hr/>"
      ],
      "text/plain": [
       "<IPython.core.display.HTML object>"
      ]
     },
     "metadata": {},
     "output_type": "display_data"
    }
   ],
   "source": [
    "# Show the first 30 strategies here, in this notebook\n",
    "for index, row in df[0:30].iterrows():\n",
    "    c2url= \"https://collective2.com/cgi-perl/xcharts200.mpl?want=nft&width=200&height=150&systemid={systemid}\".format(systemid = row['SystemId'])\n",
    "    img = Image(url=c2url)\n",
    "    display(img)\n",
    "    line = \"{systemname} (#{systemid}) Expectancy: {expect}\".format(systemname = row['Name'], systemid = row['SystemId'],expect=row['Expectancy']) \n",
    "    print(line)\n",
    "    display(HTML(\"<hr/>\"))\n"
   ]
  }
 ],
 "metadata": {
  "kernelspec": {
   "display_name": "Python 3 (ipykernel)",
   "language": "python",
   "name": "python3"
  },
  "language_info": {
   "codemirror_mode": {
    "name": "ipython",
    "version": 3
   },
   "file_extension": ".py",
   "mimetype": "text/x-python",
   "name": "python",
   "nbconvert_exporter": "python",
   "pygments_lexer": "ipython3",
   "version": "3.8.10"
  },
  "widgets": {
   "application/vnd.jupyter.widget-state+json": {
    "state": {},
    "version_major": 2,
    "version_minor": 0
   }
  }
 },
 "nbformat": 4,
 "nbformat_minor": 4
}
