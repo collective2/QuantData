{
 "cells": [
  {
   "cell_type": "markdown",
   "metadata": {},
   "source": [
    "# c2score_scoring_workbench_data\n",
    "\n",
    "JavaScript"
   ]
  },
  {
   "cell_type": "code",
   "execution_count": 3,
   "metadata": {},
   "outputs": [],
   "source": [
    "import * as tslab from 'tslab';\n",
    "import fetch from 'node-fetch';"
   ]
  },
  {
   "cell_type": "code",
   "execution_count": 4,
   "metadata": {},
   "outputs": [],
   "source": [
    "const GRAPHL_API = \"http://54.166.100.68:8080/v1/graphql\";"
   ]
  },
  {
   "cell_type": "code",
   "execution_count": 5,
   "metadata": {},
   "outputs": [
    {
     "name": "stdout",
     "output_type": "stream",
     "text": [
      "{\n",
      "  strategyid: \u001b[33m13202557\u001b[39m,\n",
      "  strategyname: \u001b[32m'extreme-os'\u001b[39m,\n",
      "  added: \u001b[32m'2005-02-17'\u001b[39m,\n",
      "  agedays: \u001b[33m6124.93017578125\u001b[39m,\n",
      "  annreturn: \u001b[33m0.2791000008583069\u001b[39m,\n",
      "  dailymaxlevmax: \u001b[33m2.7200000286102295\u001b[39m,\n",
      "  deltaequity90days: \u001b[33m12.029999732971191\u001b[39m,\n",
      "  maxdrawdownpcnt: \u001b[33m63.63999938964844\u001b[39m,\n",
      "  maxworstlosspercentequity060: \u001b[33m13.47\u001b[39m,\n",
      "  numtrades: \u001b[33m4230\u001b[39m,\n",
      "  optionpercent: \u001b[33m0\u001b[39m,\n",
      "  pcntmonthsprofitable: \u001b[33m69.80000305175781\u001b[39m,\n",
      "  shortoptionscovered: \u001b[33m100\u001b[39m,\n",
      "  tradedaysago: \u001b[33m1\u001b[39m\n",
      "}\n"
     ]
    }
   ],
   "source": [
    "async function getData() {\n",
    "    \n",
    "    const body =  JSON.stringify({\n",
    "      query: \n",
    "        `{\n",
    "          c2score_scoring_workbench_data_cached(\n",
    "              where: {agedays: {_gt: \"90\"}, \n",
    "                      _and: {annreturn: {_gt: \"0\"}, \n",
    "                      _and: {deltaequity180days: {_gt: \"0\"}}}}, \n",
    "                      order_by: {strategyid: asc}) \n",
    "          {\n",
    "            strategyid\n",
    "            strategyname\n",
    "            added\n",
    "            agedays\n",
    "            annreturn\n",
    "            dailymaxlevmax\n",
    "            deltaequity90days\n",
    "            maxdrawdownpcnt\n",
    "            maxworstlosspercentequity060\n",
    "            numtrades\n",
    "            optionpercent\n",
    "            pcntmonthsprofitable\n",
    "            shortoptionscovered\n",
    "            tradedaysago\n",
    "          }\n",
    "        }`\n",
    "    });\n",
    "\n",
    "    const response = await fetch(\n",
    "        GRAPHL_API,\n",
    "        {\n",
    "          method: 'post',\n",
    "          body: body,\n",
    "          headers: {'Content-Type': 'application/json'},\n",
    "        }\n",
    "      );\n",
    "\n",
    "  let json = await response.json();\n",
    "  return json.data.c2score_scoring_workbench_data_cached;\n",
    "}\n",
    "\n",
    "\n",
    "const resultArray = await getData();\n",
    "console.log(resultArray[0]);\n"
   ]
  },
  {
   "cell_type": "code",
   "execution_count": 6,
   "metadata": {},
   "outputs": [
    {
     "name": "stdout",
     "output_type": "stream",
     "text": [
      "{\n",
      "  strategyid: \u001b[33m126454200\u001b[39m,\n",
      "  strategyname: \u001b[32m'GardCap Discretionary'\u001b[39m,\n",
      "  added: \u001b[32m'2019-12-03'\u001b[39m,\n",
      "  agedays: \u001b[33m723.1599731445312\u001b[39m,\n",
      "  annreturn: \u001b[33m0.1446000039577484\u001b[39m,\n",
      "  dailymaxlevmax: \u001b[33m1.850000023841858\u001b[39m,\n",
      "  deltaequity90days: \u001b[33m3.4100000858306885\u001b[39m,\n",
      "  maxdrawdownpcnt: \u001b[33m3.6600000858306885\u001b[39m,\n",
      "  maxworstlosspercentequity060: \u001b[33m1.14\u001b[39m,\n",
      "  numtrades: \u001b[33m186\u001b[39m,\n",
      "  optionpercent: \u001b[33m0\u001b[39m,\n",
      "  pcntmonthsprofitable: \u001b[33m70.80000305175781\u001b[39m,\n",
      "  shortoptionscovered: \u001b[33m100\u001b[39m,\n",
      "  tradedaysago: \u001b[33m0.800000011920929\u001b[39m,\n",
      "  scoreRisk: \u001b[33m55.52333329518636\u001b[39m,\n",
      "  scoreBehavior: \u001b[33m99.84000010490418\u001b[39m,\n",
      "  scoreProfitability: \u001b[33m4.820000131924948\u001b[39m,\n",
      "  score: \u001b[33m160.1833335320155\u001b[39m\n",
      "}\n"
     ]
    }
   ],
   "source": [
    "function riskFun(strat) {\n",
    "    const result = \n",
    "      (20 - strat.maxdrawdownpcnt * (20/45))\n",
    "    + (strat.maxworstlosspercentequity060 === null ? 0 : (20 - strat.maxworstlosspercentequity060 * (20.0/8)))\n",
    "    + (10 - strat.optionpercent * (10/1))\n",
    "    + (strat.shortoptionscovered >= 100 ? 10 : strat.shortoptionscovered / 100 * 10);\n",
    "    return result;\n",
    "}\n",
    "\n",
    "function behavioralFun(strat) {\n",
    "    const result = \n",
    "      (strat.agedays >= 720 ? 40 : strat.agedays/720 * 40)\n",
    "    + (20 - strat.dailymaxlevmax * (20/10)) \n",
    "    + (strat.tradedaysago <= 60 ? 20 : 0)\n",
    "    + (strat.pcntmonthsprofitable >= 100 ? 5 : strat.pcntmonthsprofitable / 100 * 5)\n",
    "    + (strat.numtrades >= 100 ? 20 : strat.numtrades / 100 * 20)\n",
    "    + ((strat.deltaequity90days <= 0 && strat.deltaequity90days > 7) ? 5 : 0); // <======= ERROR! WRONG CONDITION\n",
    "    return result;\n",
    "}\n",
    "\n",
    "function profitabilityFun(strat) {\n",
    "    const result = strat.annreturn > 0.6 ? 20 :  strat.annreturn / 0.6 * 20;\n",
    "    return result;\n",
    "}\n",
    "\n",
    "\n",
    "let data = resultArray\n",
    "//  done in GraphQL: .filter(strat => !(strat.AgeDays < 90 || strat.AnnReturn < 0 || strat.DeltaEquity180Days < 0))\n",
    "            .map(strat => {\n",
    "                return {...strat, \n",
    "                        ...{scoreRisk:riskFun(strat)},\n",
    "                        ...{scoreBehavior: behavioralFun(strat)},\n",
    "                        ...{scoreProfitability: profitabilityFun(strat)},\n",
    "                        ...{score: (riskFun(strat) + behavioralFun(strat) + profitabilityFun(strat))}\n",
    "                       }})\n",
    "            .sort((a,b) => b.score - a.score );\n",
    "\n",
    "console.log(data[0]);"
   ]
  },
  {
   "cell_type": "code",
   "execution_count": 7,
   "metadata": {},
   "outputs": [
    {
     "name": "stdout",
     "output_type": "stream",
     "text": [
      "┌─────────┬──────────┬────────────┬────────────────────────────┬───────────┬───────────────┬────────────────────┐\n",
      "│ (index) │  Score   │ StrategyId │        StrategyName        │ scoreRisk │ scoreBehavior │ scoreProfitability │\n",
      "├─────────┼──────────┼────────────┼────────────────────────────┼───────────┼───────────────┼────────────────────┤\n",
      "│    0    │ \u001b[32m'160.18'\u001b[39m │ \u001b[33m126454200\u001b[39m  │  \u001b[32m'GardCap Discretionary'\u001b[39m   │  \u001b[32m'55.52'\u001b[39m  │    \u001b[32m'99.84'\u001b[39m    │       \u001b[32m'4.82'\u001b[39m       │\n",
      "│    1    │ \u001b[32m'158.12'\u001b[39m │ \u001b[33m117734561\u001b[39m  │       \u001b[32m'TQQQ Aspire'\u001b[39m        │  \u001b[32m'44.70'\u001b[39m  │    \u001b[32m'94.58'\u001b[39m    │      \u001b[32m'18.85'\u001b[39m       │\n",
      "│    2    │ \u001b[32m'156.89'\u001b[39m │ \u001b[33m124696549\u001b[39m  │     \u001b[32m'4Timing Trend ML'\u001b[39m     │  \u001b[32m'53.34'\u001b[39m  │    \u001b[32m'99.55'\u001b[39m    │       \u001b[32m'4.01'\u001b[39m       │\n",
      "│    3    │ \u001b[32m'156.87'\u001b[39m │ \u001b[33m128743489\u001b[39m  │  \u001b[32m'JWB Stock and ETF ORB'\u001b[39m   │  \u001b[32m'49.24'\u001b[39m  │    \u001b[32m'88.73'\u001b[39m    │      \u001b[32m'18.91'\u001b[39m       │\n",
      "│    4    │ \u001b[32m'153.17'\u001b[39m │ \u001b[33m126054331\u001b[39m  │       \u001b[32m'CkNN Algo V'\u001b[39m        │  \u001b[32m'35.53'\u001b[39m  │    \u001b[32m'97.64'\u001b[39m    │      \u001b[32m'20.00'\u001b[39m       │\n",
      "│    5    │ \u001b[32m'151.99'\u001b[39m │ \u001b[33m126444124\u001b[39m  │      \u001b[32m'Saivers US ETF'\u001b[39m      │  \u001b[32m'38.39'\u001b[39m  │    \u001b[32m'97.90'\u001b[39m    │      \u001b[32m'15.70'\u001b[39m       │\n",
      "│    6    │ \u001b[32m'151.53'\u001b[39m │  \u001b[33m97088697\u001b[39m  │ \u001b[32m'4Timing Machine Learning'\u001b[39m │  \u001b[32m'50.50'\u001b[39m  │    \u001b[32m'99.53'\u001b[39m    │       \u001b[32m'1.49'\u001b[39m       │\n",
      "│    7    │ \u001b[32m'148.01'\u001b[39m │ \u001b[33m106187009\u001b[39m  │        \u001b[32m'Dual QM18'\u001b[39m         │  \u001b[32m'42.98'\u001b[39m  │    \u001b[32m'96.19'\u001b[39m    │       \u001b[32m'8.84'\u001b[39m       │\n",
      "│    8    │ \u001b[32m'147.68'\u001b[39m │ \u001b[33m125237603\u001b[39m  │         \u001b[32m'EliteSPX'\u001b[39m         │  \u001b[32m'45.69'\u001b[39m  │    \u001b[32m'92.10'\u001b[39m    │       \u001b[32m'9.89'\u001b[39m       │\n",
      "│    9    │ \u001b[32m'147.08'\u001b[39m │  \u001b[33m98995198\u001b[39m  │   \u001b[32m'Portfolio Trader PRO'\u001b[39m   │  \u001b[32m'41.88'\u001b[39m  │   \u001b[32m'100.87'\u001b[39m    │       \u001b[32m'4.33'\u001b[39m       │\n",
      "│   10    │ \u001b[32m'146.57'\u001b[39m │ \u001b[33m106004078\u001b[39m  │         \u001b[32m'BlackAce'\u001b[39m         │  \u001b[32m'50.82'\u001b[39m  │    \u001b[32m'89.14'\u001b[39m    │       \u001b[32m'6.62'\u001b[39m       │\n",
      "│   11    │ \u001b[32m'145.51'\u001b[39m │ \u001b[33m128415506\u001b[39m  │          \u001b[32m'ALPS 1'\u001b[39m          │  \u001b[32m'36.00'\u001b[39m  │    \u001b[32m'89.51'\u001b[39m    │      \u001b[32m'20.00'\u001b[39m       │\n",
      "│   12    │ \u001b[32m'145.26'\u001b[39m │ \u001b[33m125401215\u001b[39m  │          \u001b[32m'Misti'\u001b[39m           │  \u001b[32m'51.07'\u001b[39m  │    \u001b[32m'85.60'\u001b[39m    │       \u001b[32m'8.58'\u001b[39m       │\n",
      "│   13    │ \u001b[32m'144.73'\u001b[39m │  \u001b[33m81128026\u001b[39m  │       \u001b[32m'Carma Stocks'\u001b[39m       │  \u001b[32m'43.56'\u001b[39m  │    \u001b[32m'96.82'\u001b[39m    │       \u001b[32m'4.36'\u001b[39m       │\n",
      "│   14    │ \u001b[32m'144.41'\u001b[39m │ \u001b[33m111648302\u001b[39m  │  \u001b[32m'Foster Capital Growth'\u001b[39m   │  \u001b[32m'40.89'\u001b[39m  │    \u001b[32m'92.27'\u001b[39m    │      \u001b[32m'11.25'\u001b[39m       │\n",
      "│   15    │ \u001b[32m'143.91'\u001b[39m │ \u001b[33m133373732\u001b[39m  │  \u001b[32m'Pure AI Madness by FDG'\u001b[39m  │  \u001b[32m'49.06'\u001b[39m  │    \u001b[32m'74.85'\u001b[39m    │      \u001b[32m'20.00'\u001b[39m       │\n",
      "│   16    │ \u001b[32m'143.69'\u001b[39m │ \u001b[33m123231599\u001b[39m  │  \u001b[32m'SUPER15H Hedged Stocks'\u001b[39m  │  \u001b[32m'33.39'\u001b[39m  │   \u001b[32m'100.98'\u001b[39m    │       \u001b[32m'9.32'\u001b[39m       │\n",
      "│   17    │ \u001b[32m'143.03'\u001b[39m │ \u001b[33m125587405\u001b[39m  │       \u001b[32m'stock   star'\u001b[39m       │  \u001b[32m'48.89'\u001b[39m  │    \u001b[32m'77.70'\u001b[39m    │      \u001b[32m'16.45'\u001b[39m       │\n",
      "│   18    │ \u001b[32m'141.96'\u001b[39m │ \u001b[33m123937705\u001b[39m  │   \u001b[32m'Patience is a Virtue'\u001b[39m   │  \u001b[32m'27.83'\u001b[39m  │    \u001b[32m'94.13'\u001b[39m    │      \u001b[32m'20.00'\u001b[39m       │\n",
      "│   19    │ \u001b[32m'140.71'\u001b[39m │ \u001b[33m124994120\u001b[39m  │  \u001b[32m'ALPHA AI Master BY FDG'\u001b[39m  │  \u001b[32m'32.12'\u001b[39m  │    \u001b[32m'95.44'\u001b[39m    │      \u001b[32m'13.16'\u001b[39m       │\n",
      "└─────────┴──────────┴────────────┴────────────────────────────┴───────────┴───────────────┴────────────────────┘\n"
     ]
    }
   ],
   "source": [
    "let uidata = data\n",
    "            .map(i => ( \n",
    "                  {  \n",
    "                      Score: i.score.toFixed(2), \n",
    "                      StrategyId: i.strategyid,  \n",
    "                      StrategyName: i.strategyname, \n",
    "                      scoreRisk: i.scoreRisk.toFixed(2),\n",
    "                      scoreBehavior: i.scoreBehavior.toFixed(2),\n",
    "                      scoreProfitability: i.scoreProfitability.toFixed(2)                      \n",
    "                  })\n",
    "                )            ;\n",
    "console.table(uidata.slice(0,20));"
   ]
  }
 ],
 "metadata": {
  "kernelspec": {
   "display_name": "TypeScript",
   "language": "typescript",
   "name": "tslab"
  },
  "language_info": {
   "codemirror_mode": {
    "mode": "typescript",
    "name": "javascript",
    "typescript": true
   },
   "file_extension": ".ts",
   "mimetype": "text/typescript",
   "name": "typescript",
   "version": "3.7.2"
  },
  "widgets": {
   "application/vnd.jupyter.widget-state+json": {
    "state": {},
    "version_major": 2,
    "version_minor": 0
   }
  }
 },
 "nbformat": 4,
 "nbformat_minor": 4
}
