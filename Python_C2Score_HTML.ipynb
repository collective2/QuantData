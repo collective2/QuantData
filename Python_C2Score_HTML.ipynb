{
 "cells": [
  {
   "cell_type": "markdown",
   "metadata": {},
   "source": [
    "### Python: C2Score as HTML "
   ]
  },
  {
   "cell_type": "code",
   "execution_count": 1,
   "metadata": {},
   "outputs": [],
   "source": [
    "import psycopg2\n",
    "import pandas as pd\n",
    "import plotly.express as px"
   ]
  },
  {
   "cell_type": "code",
   "execution_count": 2,
   "metadata": {},
   "outputs": [],
   "source": [
    "# This is an SQL code for Daniil's formula.\n",
    "sql = \"\"\"select * from (\n",
    "            select\n",
    "                StrategyId, \n",
    "                StrategyName, \n",
    "                Added,\n",
    "                -- Risk\n",
    "                ((20 - MaxDrawdownPcnt * (20/45))\n",
    "                + case when MaxWorstLossPercentEquity060 is null then 0 else 20 - MaxWorstLossPercentEquity060 * (20.0/8) end  \n",
    "                + (10 - OptionPercent * (10/1))\n",
    "                + case when ShortOptionsCovered >= 100 then 10 else ShortOptionsCovered / 100 * 10 end \n",
    "                -- Behavior\n",
    "                + case when AgeDays >= 720 then 40 else AgeDays/720 * 40 end  \n",
    "                + (20 - DailyMaxLevMax * (20/10)) \n",
    "                + case when TradeDaysAgo <= 60 then 20 else 0 end\n",
    "                + case when PcntMonthsProfitable >= 100 then 5 else PcntMonthsProfitable / 100 * 5 end\n",
    "                + case when NumTrades >= 100 then 20 else NumTrades / 100 * 20 end\n",
    "                + case when DeltaEquity90Days <= 0 and DeltaEquity90Days > -7 then 5 else 0 end\n",
    "                -- Profitability \n",
    "                + case when AnnReturn > 0.6 then 20 else AnnReturn / 0.6 * 20 end)\n",
    "                as Score \n",
    "            from c2score_scoring_workbench_data_cached\n",
    "            where AgeDays > 90 and AnnReturn > 0 and DeltaEquity180Days > 0\n",
    "            ) as sub\n",
    " where Score > 0\n",
    " order by Score desc;\"\"\""
   ]
  },
  {
   "cell_type": "code",
   "execution_count": 3,
   "metadata": {},
   "outputs": [
    {
     "name": "stdout",
     "output_type": "stream",
     "text": [
      "Data loaded\n"
     ]
    }
   ],
   "source": [
    "conn = psycopg2.connect(host=\"quantdata.collective2.com\",database=\"postgres\",user=\"c2public\",password=\"c2public\")\n",
    "cursor = conn.cursor()\n",
    "cursor.execute(sql)\n",
    "dbData = cursor.fetchall()\n",
    "cursor.close()\n",
    "print(\"Data loaded\")"
   ]
  },
  {
   "cell_type": "code",
   "execution_count": 4,
   "metadata": {},
   "outputs": [
    {
     "data": {
      "text/html": [
       "<div>\n",
       "<style scoped>\n",
       "    .dataframe tbody tr th:only-of-type {\n",
       "        vertical-align: middle;\n",
       "    }\n",
       "\n",
       "    .dataframe tbody tr th {\n",
       "        vertical-align: top;\n",
       "    }\n",
       "\n",
       "    .dataframe thead th {\n",
       "        text-align: right;\n",
       "    }\n",
       "</style>\n",
       "<table border=\"1\" class=\"dataframe\">\n",
       "  <thead>\n",
       "    <tr style=\"text-align: right;\">\n",
       "      <th></th>\n",
       "      <th>StrategyId</th>\n",
       "      <th>StrategyName</th>\n",
       "      <th>Added</th>\n",
       "      <th>Score</th>\n",
       "    </tr>\n",
       "  </thead>\n",
       "  <tbody>\n",
       "    <tr>\n",
       "      <th>0</th>\n",
       "      <td>117734561</td>\n",
       "      <td>TQQQ Aspire</td>\n",
       "      <td>2018-05-01</td>\n",
       "      <td>169.101666</td>\n",
       "    </tr>\n",
       "    <tr>\n",
       "      <th>1</th>\n",
       "      <td>126054331</td>\n",
       "      <td>CkNN Algo V</td>\n",
       "      <td>2019-11-03</td>\n",
       "      <td>166.615000</td>\n",
       "    </tr>\n",
       "    <tr>\n",
       "      <th>2</th>\n",
       "      <td>111648302</td>\n",
       "      <td>Foster Capital Growth</td>\n",
       "      <td>2017-05-17</td>\n",
       "      <td>163.370000</td>\n",
       "    </tr>\n",
       "    <tr>\n",
       "      <th>3</th>\n",
       "      <td>97088697</td>\n",
       "      <td>4Timing Machine Learning</td>\n",
       "      <td>2015-09-08</td>\n",
       "      <td>163.203333</td>\n",
       "    </tr>\n",
       "    <tr>\n",
       "      <th>4</th>\n",
       "      <td>104874116</td>\n",
       "      <td>Stock Selection</td>\n",
       "      <td>2016-07-28</td>\n",
       "      <td>163.101666</td>\n",
       "    </tr>\n",
       "    <tr>\n",
       "      <th>...</th>\n",
       "      <td>...</td>\n",
       "      <td>...</td>\n",
       "      <td>...</td>\n",
       "      <td>...</td>\n",
       "    </tr>\n",
       "    <tr>\n",
       "      <th>210</th>\n",
       "      <td>130154154</td>\n",
       "      <td>Stable Emini Manager</td>\n",
       "      <td>2020-07-19</td>\n",
       "      <td>47.293889</td>\n",
       "    </tr>\n",
       "    <tr>\n",
       "      <th>211</th>\n",
       "      <td>134741245</td>\n",
       "      <td>Gi capital</td>\n",
       "      <td>2021-03-19</td>\n",
       "      <td>47.185555</td>\n",
       "    </tr>\n",
       "    <tr>\n",
       "      <th>212</th>\n",
       "      <td>135065074</td>\n",
       "      <td>Al US Sector Rotation</td>\n",
       "      <td>2021-04-08</td>\n",
       "      <td>26.698333</td>\n",
       "    </tr>\n",
       "    <tr>\n",
       "      <th>213</th>\n",
       "      <td>131919842</td>\n",
       "      <td>NASDAQ BIAS</td>\n",
       "      <td>2020-10-27</td>\n",
       "      <td>24.553889</td>\n",
       "    </tr>\n",
       "    <tr>\n",
       "      <th>214</th>\n",
       "      <td>135094625</td>\n",
       "      <td>SP Micro Pro</td>\n",
       "      <td>2021-04-11</td>\n",
       "      <td>24.466114</td>\n",
       "    </tr>\n",
       "  </tbody>\n",
       "</table>\n",
       "<p>215 rows × 4 columns</p>\n",
       "</div>"
      ],
      "text/plain": [
       "     StrategyId              StrategyName       Added       Score\n",
       "0     117734561               TQQQ Aspire  2018-05-01  169.101666\n",
       "1     126054331               CkNN Algo V  2019-11-03  166.615000\n",
       "2     111648302     Foster Capital Growth  2017-05-17  163.370000\n",
       "3      97088697  4Timing Machine Learning  2015-09-08  163.203333\n",
       "4     104874116           Stock Selection  2016-07-28  163.101666\n",
       "..          ...                       ...         ...         ...\n",
       "210   130154154      Stable Emini Manager  2020-07-19   47.293889\n",
       "211   134741245                Gi capital  2021-03-19   47.185555\n",
       "212   135065074     Al US Sector Rotation  2021-04-08   26.698333\n",
       "213   131919842               NASDAQ BIAS  2020-10-27   24.553889\n",
       "214   135094625              SP Micro Pro  2021-04-11   24.466114\n",
       "\n",
       "[215 rows x 4 columns]"
      ]
     },
     "metadata": {},
     "output_type": "display_data"
    }
   ],
   "source": [
    "df = pd.DataFrame(dbData, columns=[\"StrategyId\",\"StrategyName\",\"Added\",\"Score\"])\n",
    "display(df)"
   ]
  },
  {
   "cell_type": "code",
   "execution_count": 5,
   "metadata": {},
   "outputs": [],
   "source": [
    "html = df.to_html()\n",
    "file = open(\"c2score_plain.html\",\"w\")\n",
    "file.write(html)\n",
    "file.close()"
   ]
  },
  {
   "cell_type": "markdown",
   "metadata": {},
   "source": [
    "[See c2score_plain.html](https://collective2.github.io/QuantData/Documentation/c2score_plain.html)"
   ]
  },
  {
   "cell_type": "code",
   "execution_count": 6,
   "metadata": {},
   "outputs": [],
   "source": [
    "df2 = df.copy()\n",
    "df2[\"Chart\"] = (\"<a href='https://collective2.com/details/\" \n",
    "                 + df2[\"StrategyId\"].astype(str)\n",
    "                 + \"' target='_blank'>\"\n",
    "                 + \"<img src='https://collective2.com/cgi-perl/xcharts200.mpl?want=nft&width=200&height=150&systemid=\"\n",
    "                 + df2[\"StrategyId\"].astype(str)\n",
    "                 + \"'/></a>\") \n",
    "html = df2.to_html(escape=False)\n",
    "file = open(\"c2score_pictures.html\",\"w\")\n",
    "file.write(html)\n",
    "file.close()"
   ]
  },
  {
   "cell_type": "markdown",
   "metadata": {},
   "source": [
    "[See c2score_pictures.html](https://collective2.github.io/QuantData/c2score_pictures.html)"
   ]
  },
  {
   "cell_type": "code",
   "execution_count": 7,
   "metadata": {},
   "outputs": [],
   "source": [
    "sql = \"\"\"select \n",
    "StrategyId, \n",
    "StrategyName, \n",
    "Added, \n",
    "cast(Risk + Behavior + Profitability as float) AS Score,\n",
    "Risk,\n",
    "Behavior,\n",
    "Profitability \n",
    "\tfrom ( select\n",
    "\t\t\t\tStrategyId, \n",
    "\t\t\t    StrategyName, \n",
    "\t\t\t    Added,\n",
    "\t\t\t    -- Risk\n",
    "\t\t\t    ((20 - MaxDrawdownPcnt * (20/45))\n",
    "\t\t\t    + case when MaxWorstLossPercentEquity060 is null then 0 else 20 - MaxWorstLossPercentEquity060 * (20.0/8) end  \n",
    "\t\t\t    + (10 - OptionPercent * (10/1))\n",
    "\t\t\t    + case when ShortOptionsCovered >= 100 then 10 else ShortOptionsCovered / 100 * 10 end)\n",
    "\t\t\t    as Risk,\n",
    "\t\t\t    -- Behavior\n",
    "\t\t\t    ( case when AgeDays >= 720 then 40 else AgeDays/720 * 40 end  \n",
    "\t\t\t    + (20 - DailyMaxLevMax * (20/10)) \n",
    "\t\t\t    + case when TradeDaysAgo <= 60 then 20 else 0 end\n",
    "\t\t\t    + case when PcntMonthsProfitable >= 100 then 5 else PcntMonthsProfitable / 100 * 5 end\n",
    "\t\t\t    + case when NumTrades >= 100 then 20 else NumTrades / 100 * 20 end\n",
    "\t\t\t    + case when DeltaEquity90Days <= 0 and DeltaEquity90Days > -7 then 5 else 0 end\n",
    "\t\t\t    ) as Behavior,\n",
    "\t\t\t    -- Profitability \n",
    "\t\t\t    (case when AnnReturn > 0.6 then 20 else AnnReturn / 0.6 * 20 end) as Profitability\n",
    "\t\t\tfrom c2score_scoring_workbench_data_cached\n",
    "\t\t\twhere AgeDays > 90 and AnnReturn > 0 and DeltaEquity180Days > 0\n",
    "\t\t\t) as sub  \n",
    "where (Risk + Behavior + Profitability) > 0 -- 'Score' does not work here\n",
    "order by Score desc;\"\"\"\n"
   ]
  },
  {
   "cell_type": "code",
   "execution_count": 8,
   "metadata": {},
   "outputs": [
    {
     "name": "stdout",
     "output_type": "stream",
     "text": [
      "Data loaded\n"
     ]
    }
   ],
   "source": [
    "conn = psycopg2.connect(host=\"quantdata.collective2.com\",database=\"postgres\",user=\"c2public\",password=\"c2public\")\n",
    "cursor = conn.cursor()\n",
    "cursor.execute(sql)\n",
    "dbData = cursor.fetchall()\n",
    "cursor.close()\n",
    "print(\"Data loaded\")"
   ]
  },
  {
   "cell_type": "code",
   "execution_count": 9,
   "metadata": {},
   "outputs": [],
   "source": [
    "df3 = pd.DataFrame(dbData, columns=[\"StrategyId\",\"StrategyName\",\"Added\",\"Score\",\"Risk\",\"Behavior\",\"Profitability\"])\n",
    "# display(df3)\n",
    "\n",
    "html = df3.to_html()\n",
    "file = open(\"c2score_structured.html\",\"w\")\n",
    "file.write(html)\n",
    "file.close()"
   ]
  },
  {
   "cell_type": "markdown",
   "metadata": {},
   "source": [
    "[See c2score_structured.html](https://collective2.github.io/QuantData/c2score_structured.html)"
   ]
  },
  {
   "cell_type": "code",
   "execution_count": 10,
   "metadata": {},
   "outputs": [],
   "source": [
    "sql = \"\"\"SELECT \n",
    "   concat('<a href=\"https://collective2.com/details/',StrategyId,'\" target=\"_blank\">',\n",
    "          '<img src=\"https://collective2.com/cgi-perl/xcharts200.mpl?want=nft&width=200&height=150&systemid=',StrategyId,'\"/></a>') as Chart,\n",
    "    StrategyId, \n",
    "    StrategyName, \n",
    "    Added,\n",
    "    concat(\n",
    "     '<pre>',\n",
    "     'AgeDays = ',AgeDays,'<br>',\n",
    "     'AnnReturn = ',AnnReturn,'<br>',\n",
    "     'DailyMaxLevMax = ',DailyMaxLevMax,'<br>',\n",
    "     'DeltaEquity90Days = ',DeltaEquity90Days,'<br>',\n",
    "     'MaxDrawdownPcnt = ',MaxDrawdownPcnt,'<br>',\n",
    "     'MaxWorstLossPercentEquity060 = ',MaxWorstLossPercentEquity060,'<br>',\n",
    "     'NumTrades = ',NumTrades,'<br>',\n",
    "     'OptionPercent = ',OptionPercent,'<br>',\n",
    "     'PcntMonthsProfitable = ',PcntMonthsProfitable,'<br>',\n",
    "     'ShortOptionsCovered = ',ShortOptionsCovered,'<br>',\n",
    "     'TradeDaysAgo = ',TradeDaysAgo,'<br>',\n",
    "     '</pre>'\n",
    "     ) as Details,\n",
    "\t\t\t    -- Risk\n",
    "\t\t\t    ((20 - MaxDrawdownPcnt * (20/45))\n",
    "\t\t\t    + case when MaxWorstLossPercentEquity060 is null then 0 else 20 - MaxWorstLossPercentEquity060 * (20.0/8) end  \n",
    "\t\t\t    + (10 - OptionPercent * (10/1))\n",
    "\t\t\t    + case when ShortOptionsCovered >= 100 then 10 else ShortOptionsCovered / 100 * 10 end)\n",
    "\t\t\t    as Risk,\n",
    "\t\t\t    -- Behavior\n",
    "\t\t\t    ( case when AgeDays >= 720 then 40 else AgeDays/720 * 40 end  \n",
    "\t\t\t    + (20 - DailyMaxLevMax * (20/10)) \n",
    "\t\t\t    + case when TradeDaysAgo <= 60 then 20 else 0 end\n",
    "\t\t\t    + case when PcntMonthsProfitable >= 100 then 5 else PcntMonthsProfitable / 100 * 5 end\n",
    "\t\t\t    + case when NumTrades >= 100 then 20 else NumTrades / 100 * 20 end\n",
    "\t\t\t    + case when DeltaEquity90Days <= 0 and DeltaEquity90Days > -7 then 5 else 0 end\n",
    "\t\t\t    ) as Behavior,\n",
    "\t\t\t    -- Profitability \n",
    "\t\t\t    (case when AnnReturn > 0.6 then 20 else AnnReturn / 0.6 * 20 end) as Profitability\n",
    "FROM c2score_scoring_workbench_data_cached\n",
    "where AgeDays > 90 and AnnReturn > 0 and DeltaEquity180Days > 0\n",
    "-- having Score > 0 order by Score desc this doesn't work in PostGreSQL\n",
    ";\"\"\"\n"
   ]
  },
  {
   "cell_type": "code",
   "execution_count": 11,
   "metadata": {},
   "outputs": [
    {
     "name": "stdout",
     "output_type": "stream",
     "text": [
      "Data loaded\n"
     ]
    }
   ],
   "source": [
    "conn = psycopg2.connect(host=\"quantdata.collective2.com\",database=\"postgres\",user=\"c2public\",password=\"c2public\")\n",
    "cursor = conn.cursor()\n",
    "cursor.execute(sql)\n",
    "dbData = cursor.fetchall()\n",
    "cursor.close()\n",
    "print(\"Data loaded\")"
   ]
  },
  {
   "cell_type": "code",
   "execution_count": 12,
   "metadata": {},
   "outputs": [],
   "source": [
    "df4 = pd.DataFrame(dbData, columns=[\"Chart\",\"StrategyId\",\"StrategyName\",\"Added\",\"Details\",\"Risk\",\"Behavior\",\"Profitability\"])\n",
    "df4.insert(1,\"Score\", df4[\"Risk\"]+df4[\"Behavior\"]+df4[\"Profitability\"])\n",
    "df4 = df4[df4[\"Score\"] > 0]\n",
    "df4.sort_values(by=['Score'], ascending=False, inplace=True) \n",
    "df4 = df4.round(decimals=2) # Round what is possible (Too late for 'Details' here. :-))\n",
    "\n",
    "html = df4.to_html(escape=False)\n",
    "file = open(\"c2score_detailed.html\",\"w\")\n",
    "file.write(html)\n",
    "file.close()"
   ]
  },
  {
   "cell_type": "markdown",
   "metadata": {},
   "source": [
    "[See c2score_detailed.html](https://collective2.github.io/QuantData/c2score_detailed.html)"
   ]
  }
 ],
 "metadata": {
  "kernelspec": {
   "display_name": "Python 3 (ipykernel)",
   "language": "python",
   "name": "python3"
  },
  "language_info": {
   "codemirror_mode": {
    "name": "ipython",
    "version": 3
   },
   "file_extension": ".py",
   "mimetype": "text/x-python",
   "name": "python",
   "nbconvert_exporter": "python",
   "pygments_lexer": "ipython3",
   "version": "3.8.10"
  },
  "widgets": {
   "application/vnd.jupyter.widget-state+json": {
    "state": {},
    "version_major": 2,
    "version_minor": 0
   }
  }
 },
 "nbformat": 4,
 "nbformat_minor": 4
}
