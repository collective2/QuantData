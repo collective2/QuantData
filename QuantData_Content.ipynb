{
 "cells": [
  {
   "cell_type": "markdown",
   "metadata": {},
   "source": [
    "# Collective2 Quant Data"
   ]
  },
  {
   "cell_type": "markdown",
   "metadata": {},
   "source": [
    "This project is about a database of Collective2 strategies data. A stored data is very similar to the [Collective2 Data Explorer](https://collective2.com/explorer). The same data (but stored in MySql) is used in the [Collective2 Strategy Stats](https://github.com/collective2/StrategyStats) project. This is also a subset of data used in the Collective2 [Strategy Scoring Workbench ](https://collective2.com/scoring-workbench) project."
   ]
  },
  {
   "cell_type": "markdown",
   "metadata": {},
   "source": [
    "The goal of this project is to provide you with data that you can use locally in your favorite programming language for your own investigation.\n",
    "\n",
    "An SQL script of the full database definition is [available here](https://github.com/collective2/QuantData/blob/main/PostgresDatabase.ipynb). \n",
    "\n",
    "You can use it i.e. for creation of your own local database, which can be filled by the Collective2 data and create your own database objects for the local usage then.\n",
    "\n",
    "More details about data can be found in the [Collective2 StrategyStats](https://github.com/collective2/StrategyStats) project."
   ]
  },
  {
   "cell_type": "markdown",
   "metadata": {
    "jp-MarkdownHeadingCollapsed": true,
    "tags": []
   },
   "source": [
    "## Tables and views available in the database\n",
    "\n",
    "### Tables\n",
    "\n",
    "- **c2ex_equity_daily**: Equity accounts of strategies.. \n",
    "- **c2ex_results**: Results of strategies.\n",
    "- **c2ex_signals**: Trading signals of strategies.\n",
    "- **c2ex_trades**: Closed trades in strategies. \n",
    "- **c2score_population**: Population statistics from the [StrategyStats](https://github.com/collective2/StrategyStats) project\n",
    "- **c2score_scoring_workbench_data_cached**: Materialized view c2score_scoringworkbenchview.\n",
    "- **c2score_systems_in_grid**: A list of strategies from the Collective2 strategies grid.\n",
    "- **c2systems**: Basic data about strategies.\n",
    "- **historical_stats_modern**: Many historical statistics.\n",
    "- **historicalstats01**: Materialized view \"historicalstats01view\".\n",
    "- **leverage_weighted_max_daily**: Daily maximum leverage used by strategies.\n",
    "- **maxopenlossdaily**: Daily maximum open loss incurred by the strategies.\n",
    "- **returnsdatainintervalscleaned**: Materialized view \"returnsdatainintervalscleanedview\".\n",
    "- **returnsdatainintervalscleanedskip090**: Materialized view \"returnsdatainintervalscleanedskip090view\".\n",
    "- **systemmetastatslatest**: Latest strategies statistics.\n",
    "\n",
    "### Views\n",
    "- **c2score_scoringworkbenchview**: A subset of latest statistics used in Colective2 Strategy Scoring Workbench.\n",
    "- **expectancyview**: Expectancy data.\n",
    "- **historicalstats01view**: Historical statistics date.\n",
    "- **returnsdatainintervalscleanedskip090view**: Data from the \"returnsdatainintervalscleanedview\" without systems younger than 90 days.\n",
    "- **maxopenlossdailyview**: Daily open loss data.\n",
    "- **returnsdatainintervalscleanedview**: Cleaned equities and returns data from the \"systemsreturnsinintervals\" view.\n",
    "- **systemsdatacleaner**: An attempt to filter-out strategies containing some bad data.\n",
    "- **systemsreturnsinintervals**: Equities and returns data. This is the most basic data.\n",
    "- **systemsreturnsshort**: A sub-view used in the \"systemsdatacleaner\"."
   ]
  },
  {
   "cell_type": "markdown",
   "metadata": {},
   "source": [
    "## Examples"
   ]
  },
  {
   "cell_type": "markdown",
   "metadata": {},
   "source": [
    "- Using an SQL client\n",
    "    - [SQL](./Using_SQL.ipynb)\n",
    "- Using Python\n",
    "    - [Bollinger Bands](./Python_BBExample.ipynb)\n",
    "    - [C2Score](./Python_C2Score_HTML.ipynb)\n",
    "    - [Expectancy](./Python_Expectancy.ipynb)\n",
    "- Using Node.js\n",
    "    - [Bollinger Bands](./BollingerBands_TS.ipynb)\n",
    "    - [Daniil_Score](./Daniil_Score_JS.ipynb)\n",
    "- Using C\\# \n",
    "    - [C\\# Windows App](./CSharpWindowsApp.ipynb)"
   ]
  },
  {
   "cell_type": "markdown",
   "metadata": {},
   "source": [
    "## GraphQL\n",
    "\n",
    "The above data is provided  also via GraphQL.\n",
    "\n",
    "Examples:\n",
    "- [c2systems](./GQL_c2systems.ipynb)\n",
    "- [c2ex_results](./GQL_c2ex_results.ipynb)\n",
    "- [c2ex_equity_daily](./GQL_c2ex_equity_daily.ipynb)\n",
    "- [c2score_scoring_workbench_data](./GQL_c2score_scoring_workbench_data_cached.ipynb)\n",
    "- [historicalstats01](./GQL_historicalstats01.ipynb)\n",
    "\n",
    "GraphQL schema can be downloaded here: [schema.json](./schema.json). It works, for example, in [Postman](https://www.postman.com/)."
   ]
  },
  {
   "cell_type": "markdown",
   "metadata": {
    "tags": []
   },
   "source": [
    "## To be done - REST API\n",
    "\n",
    "We will add also REST API endpoints. However, use [GraphQL](https://graphql.org/) if you can. GraphQL is modern, fast, ecological, and much more powerful than the REST API.  \n",
    "\n",
    "Comparing the access methods (SQL, GraphQL and REST), the REST API is the worst possible method on both sides. All REST API endpoints must be implemented in the server application. Such a server requires a lot of development, debugging and documentation work. Despite that work, it will always have limited options. On the client side, each REST API is very specific and you need to learn it.\n",
    "\n",
    "We will never be able to implement as many data selection options in the API that can be done with SQL. SQL is the best and fastest way to solve many data selection tasks. The rest can be solved in a programming language. If you need help with SQL statements, feel free to contact us."
   ]
  }
 ],
 "metadata": {
  "kernelspec": {
   "display_name": "Python 3 (ipykernel)",
   "language": "python",
   "name": "python3"
  },
  "language_info": {
   "codemirror_mode": {
    "name": "ipython",
    "version": 3
   },
   "file_extension": ".py",
   "mimetype": "text/x-python",
   "name": "python",
   "nbconvert_exporter": "python",
   "pygments_lexer": "ipython3",
   "version": "3.8.10"
  },
  "widgets": {
   "application/vnd.jupyter.widget-state+json": {
    "state": {},
    "version_major": 2,
    "version_minor": 0
   }
  }
 },
 "nbformat": 4,
 "nbformat_minor": 4
}
