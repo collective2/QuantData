{
 "cells": [
  {
   "cell_type": "markdown",
   "metadata": {},
   "source": [
    "# Collective2 Quant Data"
   ]
  },
  {
   "cell_type": "markdown",
   "metadata": {},
   "source": [
    "This project is about a database of Collective2 strategies data. A stored data is very similar to the [Collective2 Data Explorer](https://collective2.com/explorer). The same data (but stored in MySql) is used in the [Collective2 Strategy Stats](https://github.com/collective2/StrategyStats) project. This is also a subset of data used in the Collective2 [Strategy Scoring Workbench ](https://collective2.com/scoring-workbench) project."
   ]
  },
  {
   "cell_type": "markdown",
   "metadata": {},
   "source": [
    "The goal of this project is to provide you with data that you can use locally in your favorite programming language for your own investigation.\n",
    "\n",
    "An SQL script of the full database definition is [available here.](./PostgresDatabase.ipynb). \n",
    "\n",
    "You can use it i.e. for creation of your own local database, which can be filled by the Collective2 data and create your own database objects for the local usage then.\n",
    "\n",
    "More details about data can be found in the [Collective2 StrategyStats](https://github.com/collective2/StrategyStats) project."
   ]
  },
  {
   "cell_type": "markdown",
   "metadata": {
    "jp-MarkdownHeadingCollapsed": true,
    "tags": []
   },
   "source": [
    "## Tables and views available in the database\n",
    "\n",
    "### Tables\n",
    "\n",
    "- **c2ex_equity_daily**: Equity accounts of strategies.. \n",
    "- **c2ex_results**: Results of strategies.\n",
    "- **c2ex_signals**: Trading signals of strategies.\n",
    "- **c2ex_trades**: Closed trades in strategies. \n",
    "<!-- - c2score_population: -->\n",
    "- **c2score_scoring_workbench_data_cached**: Materialized view c2score_scoringworkbenchview.\n",
    "- **c2score_systems_in_grid**: A list of strategies from the Collective2 strategies grid.\n",
    "- **c2systems**: Basic data about strategies.\n",
    "- **historical_stats_modern**: Many historical statistics.\n",
    "- **historicalstats01**: Materialized view \"historicalstats01view\".\n",
    "- **leverage_weighted_max_daily**: Daily maximum leverage used by strategies.\n",
    "- **maxopenlossdaily**: Daily maximum open loss incurred by the strategies.\n",
    "- **returnsdatainintervalscleaned**: Materialized view \"returnsdatainintervalscleanedview\".\n",
    "- **returnsdatainintervalscleanedskip090**: Materialized view \"returnsdatainintervalscleanedskip090view\".\n",
    "- **systemmetastatslatest**: Latest strategies statistics.\n",
    "\n",
    "### Views\n",
    "- **c2score_scoringworkbenchview**: A subset of latest statistics used in Colective2 Strategy Scoring Workbench.\n",
    "- **historicalstats01view**: Historical statistics date.\n",
    "- **returnsdatainintervalscleanedskip090view**: Data from the \"returnsdatainintervalscleanedview\" without systems younger than 90 days.\n",
    "- **returnsdatainintervalscleanedview**: Cleaned equities and returns data from the \"systemsreturnsinintervals\" view.\n",
    "- **systemsdatacleaner**: An attempt to filter-out strategies containing some bad data.\n",
    "- **systemsreturnsinintervals**: Equities and returns data. This is the most basic data.\n",
    "- **systemsreturnsshort**: A sub-view used in the \"systemsdatacleaner\"."
   ]
  },
  {
   "cell_type": "markdown",
   "metadata": {},
   "source": [
    "## Examples"
   ]
  },
  {
   "cell_type": "markdown",
   "metadata": {},
   "source": [
    "- Using an SQL client\n",
    "    - [SQL](Using_SQL.ipynb)\n",
    "- Using Python\n",
    "    - [Bollinger Bands](Python_BBExample.ipynb)\n",
    "    - [C2Score](Python_C2Score_HTML.ipynb)\n",
    "    - [Expectancy](Python_Expectancy.ipynb)\n",
    "- Using Node.js\n",
    "    - [Bollinger Bands](BollingerBands_TS.ipynb)\n",
    "    - [Daniil_Score](Daniil_Score_JS.ipynb)\n",
    "- Using C\\# \n",
    "    - [C\\# Windows App](CSharpWindowsApp.ipynb)"
   ]
  },
  {
   "cell_type": "markdown",
   "metadata": {
    "jp-MarkdownHeadingCollapsed": true,
    "tags": []
   },
   "source": [
    "## To be done\n",
    "\n",
    "Our plan is to provide data also via GraphQL and REST APIs.\n",
    "\n",
    "If you don't want or can't use SQL clients, you can wait until we implement data access using APIs. \n",
    "We plan to implement GraphQL and REST APIs.\n",
    "\n",
    "But APIs are implemented in server applications. Such applications needs a lot of development work and despite that, they always have limited options.\n",
    "GraphQL is more powerful than REST API.\n",
    "However, we will never be able to implement so many data selection options in APIs that can be performed using SQL.\n",
    "SQL is the best and fastest way to solve many data selection tasks. The rest can be solved in the programming language.\n",
    "If you'll need help with SQL commands, do not hesitate to contact us."
   ]
  }
 ],
 "metadata": {
  "kernelspec": {
   "display_name": "Python 3 (ipykernel)",
   "language": "python",
   "name": "python3"
  },
  "language_info": {
   "codemirror_mode": {
    "name": "ipython",
    "version": 3
   },
   "file_extension": ".py",
   "mimetype": "text/x-python",
   "name": "python",
   "nbconvert_exporter": "python",
   "pygments_lexer": "ipython3",
   "version": "3.8.10"
  },
  "widgets": {
   "application/vnd.jupyter.widget-state+json": {
    "state": {},
    "version_major": 2,
    "version_minor": 0
   }
  }
 },
 "nbformat": 4,
 "nbformat_minor": 4
}
